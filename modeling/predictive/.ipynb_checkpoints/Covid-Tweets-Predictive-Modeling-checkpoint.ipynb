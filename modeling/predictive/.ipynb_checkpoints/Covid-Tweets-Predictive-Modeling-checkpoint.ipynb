{
 "cells": [
  {
   "cell_type": "code",
   "execution_count": 1049,
   "metadata": {},
   "outputs": [
    {
     "name": "stdout",
     "output_type": "stream",
     "text": [
      "Collecting yellowbrick\n",
      "  Downloading yellowbrick-1.3.post1-py3-none-any.whl (271 kB)\n",
      "\u001b[K     |████████████████████████████████| 271 kB 3.5 MB/s eta 0:00:01\n",
      "\u001b[?25hRequirement already satisfied: scikit-learn>=0.20 in /Applications/anaconda3/lib/python3.8/site-packages (from yellowbrick) (0.23.2)\n",
      "Requirement already satisfied: matplotlib!=3.0.0,>=2.0.2 in /Applications/anaconda3/lib/python3.8/site-packages (from yellowbrick) (3.3.2)\n",
      "Requirement already satisfied: cycler>=0.10.0 in /Applications/anaconda3/lib/python3.8/site-packages (from yellowbrick) (0.10.0)\n",
      "Requirement already satisfied: numpy<1.20,>=1.16.0 in /Applications/anaconda3/lib/python3.8/site-packages (from yellowbrick) (1.19.2)\n",
      "Requirement already satisfied: scipy>=1.0.0 in /Applications/anaconda3/lib/python3.8/site-packages (from yellowbrick) (1.5.2)\n",
      "Requirement already satisfied: threadpoolctl>=2.0.0 in /Applications/anaconda3/lib/python3.8/site-packages (from scikit-learn>=0.20->yellowbrick) (2.1.0)\n",
      "Requirement already satisfied: joblib>=0.11 in /Applications/anaconda3/lib/python3.8/site-packages (from scikit-learn>=0.20->yellowbrick) (0.17.0)\n",
      "Requirement already satisfied: pillow>=6.2.0 in /Applications/anaconda3/lib/python3.8/site-packages (from matplotlib!=3.0.0,>=2.0.2->yellowbrick) (8.0.1)\n",
      "Requirement already satisfied: kiwisolver>=1.0.1 in /Applications/anaconda3/lib/python3.8/site-packages (from matplotlib!=3.0.0,>=2.0.2->yellowbrick) (1.3.0)\n",
      "Requirement already satisfied: python-dateutil>=2.1 in /Applications/anaconda3/lib/python3.8/site-packages (from matplotlib!=3.0.0,>=2.0.2->yellowbrick) (2.8.1)\n",
      "Requirement already satisfied: pyparsing!=2.0.4,!=2.1.2,!=2.1.6,>=2.0.3 in /Applications/anaconda3/lib/python3.8/site-packages (from matplotlib!=3.0.0,>=2.0.2->yellowbrick) (2.4.7)\n",
      "Requirement already satisfied: certifi>=2020.06.20 in /Applications/anaconda3/lib/python3.8/site-packages (from matplotlib!=3.0.0,>=2.0.2->yellowbrick) (2020.6.20)\n",
      "Requirement already satisfied: six in /Applications/anaconda3/lib/python3.8/site-packages (from cycler>=0.10.0->yellowbrick) (1.15.0)\n",
      "Installing collected packages: yellowbrick\n",
      "Successfully installed yellowbrick-1.3.post1\n",
      "Note: you may need to restart the kernel to use updated packages.\n"
     ]
    }
   ],
   "source": [
    "pip install yellowbrick\n"
   ]
  },
  {
   "cell_type": "code",
   "execution_count": 1,
   "metadata": {
    "ExecuteTime": {
     "end_time": "2022-05-05T01:37:52.341663Z",
     "start_time": "2022-05-05T01:37:47.737410Z"
    }
   },
   "outputs": [
    {
     "name": "stderr",
     "output_type": "stream",
     "text": [
      "Importing plotly failed. Interactive plots will not work.\n",
      "[nltk_data] Downloading package punkt to\n",
      "[nltk_data]     /Users/austingerner/nltk_data...\n",
      "[nltk_data]   Package punkt is already up-to-date!\n",
      "[nltk_data] Downloading package stopwords to\n",
      "[nltk_data]     /Users/austingerner/nltk_data...\n",
      "[nltk_data]   Package stopwords is already up-to-date!\n"
     ]
    }
   ],
   "source": [
    "import nltk\n",
    "import pickle5 as pickle\n",
    "import carmen\n",
    "from pyarrow import json\n",
    "import jsonlines\n",
    "import json_lines\n",
    "import spacy\n",
    "import tokenizer\n",
    "from json2parquet import convert_json\n",
    "import csv\n",
    "import ijson\n",
    "from nltk.tokenize import word_tokenize\n",
    "import gensim\n",
    "from itertools import chain\n",
    "from sklearn import linear_model\n",
    "from sklearn.metrics import mean_squared_error, r2_score\n",
    "from functools import partial\n",
    "import numpy as np\n",
    "import datetime\n",
    "from fbprophet import Prophet\n",
    "from fbprophet.diagnostics import cross_validation, performance_metrics\n",
    "from fbprophet.plot import plot_cross_validation_metric\n",
    "from sklearn.preprocessing import LabelEncoder, StandardScaler\n",
    "\n",
    "from sklearn.pipeline import Pipeline\n",
    "\n",
    "from sklearn.model_selection import train_test_split\n",
    "\n",
    "import pyarrow.parquet as pq\n",
    "# Sklearn\n",
    "from sklearn.decomposition import LatentDirichletAllocation, TruncatedSVD\n",
    "from sklearn.feature_extraction.text import CountVectorizer, TfidfVectorizer\n",
    "from sklearn.model_selection import GridSearchCV\n",
    "\n",
    "import numpy as np\n",
    "import pandas as pd\n",
    "import matplotlib.pyplot as plt  #for plotting purpose\n",
    "# from sklearn.preprocessing import linear_model\n",
    "from pprint import pprint\n",
    "# Plotting tools\n",
    "import pyLDAvis\n",
    "import pyLDAvis.sklearn\n",
    "import matplotlib.pyplot as plt\n",
    "# %matplotlib inline\"\n",
    "from gensim.models import CoherenceModel\n",
    "# Plotting\n",
    "import matplotlib.pyplot as plt\n",
    "import seaborn as sns\n",
    "import pyLDAvis\n",
    "import pyLDAvis.gensim\n",
    "nltk.download('punkt')\n",
    "import pandas as pd\n",
    "import numpy as np\n",
    "import re\n",
    "# Plotting\n",
    "import seaborn as sns\n",
    "import matplotlib.pyplot as plt\n",
    "import collections \n",
    "# import smpi.statsmodels as ssm\n",
    "from sklearn.metrics import mean_squared_error\n",
    "from sklearn.metrics import mean_absolute_error\n",
    "\n",
    "\n",
    "# Gensim\n",
    "import gensim\n",
    "from gensim.utils import simple_preprocess\n",
    "# NLTK\n",
    "import nltk\n",
    "nltk.download('stopwords')\n",
    "from nltk.corpus import stopwords\n",
    "from collections import Counter\n",
    "from wordcloud import WordCloud\n",
    "import warnings \n",
    "warnings.filterwarnings(\"ignore\", category=DeprecationWarning)\n",
    "%matplotlib inline\n",
    "import nltk\n",
    "from nltk.corpus import stopwords\n",
    "\n",
    "from nltk import bigrams\n",
    "from nltk.stem import PorterStemmer\n",
    "\n",
    "sns.set(font_scale=1.5)\n",
    "sns.set_style(\"whitegrid\")\n",
    "import gensim\n",
    "from gensim import corpora\n",
    "from pprint import pprint\n",
    "import warnings \n",
    "warnings.filterwarnings(\"ignore\", category=DeprecationWarning)\n",
    "\n",
    "%matplotlib inline\n",
    "\n",
    "import datetime\n",
    "from dateutil.parser import parse \n",
    "import matplotlib as mpl\n",
    "import matplotlib.pyplot as plt\n",
    "import seaborn as sns\n",
    "import numpy as np\n",
    "import pandas as pd\n",
    "import webcolors\n",
    "import folium\n",
    "plt.rcParams.update({'figure.figsize': (30, 30), 'figure.dpi': 120})"
   ]
  },
  {
   "cell_type": "code",
   "execution_count": 604,
   "metadata": {
    "ExecuteTime": {
     "end_time": "2022-05-06T03:28:02.889336Z",
     "start_time": "2022-05-06T03:28:02.869614Z"
    }
   },
   "outputs": [],
   "source": [
    "def _check_reg_targets(y_true, y_pred, multioutput, dtype=\"numeric\"):\n",
    "    \"\"\"Check that y_true and y_pred belong to the same regression task.\n",
    "    Parameters\n",
    "    ----------\n",
    "    y_true : array-like\n",
    "    y_pred : array-like\n",
    "    multioutput : array-like or string in ['raw_values', uniform_average',\n",
    "        'variance_weighted'] or None\n",
    "        None is accepted due to backward compatibility of r2_score().\n",
    "    Returns\n",
    "    -------\n",
    "    type_true : one of {'continuous', continuous-multioutput'}\n",
    "        The type of the true target data, as output by\n",
    "        'utils.multiclass.type_of_target'.\n",
    "    y_true : array-like of shape (n_samples, n_outputs)\n",
    "        Ground truth (correct) target values.\n",
    "    y_pred : array-like of shape (n_samples, n_outputs)\n",
    "        Estimated target values.\n",
    "    multioutput : array-like of shape (n_outputs) or string in ['raw_values',\n",
    "        uniform_average', 'variance_weighted'] or None\n",
    "        Custom output weights if ``multioutput`` is array-like or\n",
    "        just the corresponding argument if ``multioutput`` is a\n",
    "        correct keyword.\n",
    "    dtype : str or list, default=\"numeric\"\n",
    "        the dtype argument passed to check_array.\n",
    "    \"\"\"\n",
    "    check_consistent_length(y_true, y_pred)\n",
    "    y_true = check_array(y_true, ensure_2d=False, dtype=dtype)\n",
    "    y_pred = check_array(y_pred, ensure_2d=False, dtype=dtype)\n",
    "\n",
    "    if y_true.ndim == 1:\n",
    "        y_true = y_true.reshape((-1, 1))\n",
    "\n",
    "    if y_pred.ndim == 1:\n",
    "        y_pred = y_pred.reshape((-1, 1))\n",
    "\n",
    "    if y_true.shape[1] != y_pred.shape[1]:\n",
    "        raise ValueError(\"y_true and y_pred have different number of output \"\n",
    "                         \"({0}!={1})\".format(y_true.shape[1], y_pred.shape[1]))\n",
    "\n",
    "    n_outputs = y_true.shape[1]\n",
    "    allowed_multioutput_str = ('raw_values', 'uniform_average',\n",
    "                               'variance_weighted')\n",
    "    if isinstance(multioutput, str):\n",
    "        if multioutput not in allowed_multioutput_str:\n",
    "            raise ValueError(\"Allowed 'multioutput' string values are {}. \"\n",
    "                             \"You provided multioutput={!r}\".format(\n",
    "                                 allowed_multioutput_str,\n",
    "                                 multioutput))\n",
    "    elif multioutput is not None:\n",
    "        multioutput = check_array(multioutput, ensure_2d=False)\n",
    "        if n_outputs == 1:\n",
    "            raise ValueError(\"Custom weights are useful only in \"\n",
    "                             \"multi-output cases.\")\n",
    "        elif n_outputs != len(multioutput):\n",
    "            raise ValueError((\"There must be equally many custom weights \"\n",
    "                              \"(%d) as outputs (%d).\") %\n",
    "                             (len(multioutput), n_outputs))\n",
    "    y_type = 'continuous' if n_outputs == 1 else 'continuous-multioutput'\n",
    "\n",
    "    return y_type, y_true, y_pred, multioutput\n",
    "\n",
    "def mean_absolute_percentage_error(y_true, y_pred,\n",
    "                                   sample_weight=None):\n",
    "    \"\"\"Mean absolute percentage error regression loss.\n",
    "    Note here that we do not represent the output as a percentage in range\n",
    "    [0, 100]. Instead, we represent it in range [0, 1/eps]. Read more in the\n",
    "    :ref:`User Guide <mean_absolute_percentage_error>`.\n",
    "    .. versionadded:: 0.24\n",
    "    Parameters\n",
    "    ----------\n",
    "    y_true : array-like of shape (n_samples,) or (n_samples, n_outputs)\n",
    "        Ground truth (correct) target values.\n",
    "    y_pred : array-like of shape (n_samples,) or (n_samples, n_outputs)\n",
    "        Estimated target values.\n",
    "    sample_weight : array-like of shape (n_samples,), default=None\n",
    "        Sample weights.\n",
    "    multioutput : {'raw_values', 'uniform_average'} or array-like\n",
    "        Defines aggregating of multiple output values.\n",
    "        Array-like value defines weights used to average errors.\n",
    "        If input is list then the shape must be (n_outputs,).\n",
    "        'raw_values' :\n",
    "            Returns a full set of errors in case of multioutput input.\n",
    "        'uniform_average' :\n",
    "            Errors of all outputs are averaged with uniform weight.\n",
    "    Returns\n",
    "    -------\n",
    "    loss : float or ndarray of floats in the range [0, 1/eps]\n",
    "        If multioutput is 'raw_values', then mean absolute percentage error\n",
    "        is returned for each output separately.\n",
    "        If multioutput is 'uniform_average' or an ndarray of weights, then the\n",
    "        weighted average of all output errors is returned.\n",
    "        MAPE output is non-negative floating point. The best value is 0.0.\n",
    "        But note the fact that bad predictions can lead to arbitarily large\n",
    "        MAPE values, especially if some y_true values are very close to zero.\n",
    "        Note that we return a large value instead of `inf` when y_true is zero.\n",
    "    Examples\n",
    "    --------\n",
    "    >>> from sklearn.metrics import mean_absolute_percentage_error\n",
    "    >>> y_true = [3, -0.5, 2, 7]\n",
    "    >>> y_pred = [2.5, 0.0, 2, 8]\n",
    "    >>> mean_absolute_percentage_error(y_true, y_pred)\n",
    "    0.3273...\n",
    "    >>> y_true = [[0.5, 1], [-1, 1], [7, -6]]\n",
    "    >>> y_pred = [[0, 2], [-1, 2], [8, -5]]\n",
    "    >>> mean_absolute_percentage_error(y_true, y_pred)\n",
    "    0.5515...\n",
    "    >>> mean_absolute_percentage_error(y_true, y_pred, multioutput=[0.3, 0.7])\n",
    "    0.6198...\n",
    "    \"\"\"\n",
    "    y_type, y_true, y_pred, multioutput = _check_reg_targets(\n",
    "        y_true, y_pred, multioutput)\n",
    "    check_consistent_length(y_true, y_pred, sample_weight)\n",
    "    epsilon = np.finfo(np.float64).eps\n",
    "    mape = np.abs(y_pred - y_true) / np.maximum(np.abs(y_true), epsilon)\n",
    "    output_errors = np.average(mape,\n",
    "                               weights=sample_weight, axis=0)\n",
    "    if isinstance(multioutput, str):\n",
    "        if multioutput == 'raw_values':\n",
    "            return output_errors\n",
    "        elif multioutput == 'uniform_average':\n",
    "            # pass None as weights to np.average: uniform mean\n",
    "            multioutput = None\n",
    "\n",
    "    return np.average(output_errors, weights=multioutput)"
   ]
  },
  {
   "cell_type": "code",
   "execution_count": 2,
   "metadata": {
    "ExecuteTime": {
     "end_time": "2022-05-05T01:37:52.352220Z",
     "start_time": "2022-05-05T01:37:52.344074Z"
    }
   },
   "outputs": [],
   "source": [
    "def stateNames(stateAbbreviation):\n",
    "\n",
    "    states = {\n",
    "            'AK': 'Alaska',\n",
    "            'AL': 'Alabama',\n",
    "            'AR': 'Arkansas',\n",
    "            'AS': 'American Samoa',\n",
    "            'AZ': 'Arizona',\n",
    "            'CA': 'California',\n",
    "            'CO': 'Colorado',\n",
    "            'CT': 'Connecticut',\n",
    "            'DC': 'District of Columbia',\n",
    "            'DE': 'Delaware',\n",
    "            'FL': 'Florida',\n",
    "            'GA': 'Georgia',\n",
    "            'GU': 'Guam',\n",
    "            'HI': 'Hawaii',\n",
    "            'IA': 'Iowa',\n",
    "            'ID': 'Idaho',\n",
    "            'IL': 'Illinois',\n",
    "            'IN': 'Indiana',\n",
    "            'KS': 'Kansas',\n",
    "            'KY': 'Kentucky',\n",
    "            'LA': 'Louisiana',\n",
    "            'MA': 'Massachusetts',\n",
    "            'MD': 'Maryland',\n",
    "            'ME': 'Maine',\n",
    "            'MI': 'Michigan',\n",
    "            'MN': 'Minnesota',\n",
    "            'MO': 'Missouri',\n",
    "            'MP': 'Northern Mariana Islands',\n",
    "            'MS': 'Mississippi',\n",
    "            'MT': 'Montana',\n",
    "            'NA': 'National',\n",
    "            'NC': 'North Carolina',\n",
    "            'ND': 'North Dakota',\n",
    "            'NE': 'Nebraska',\n",
    "            'NH': 'New Hampshire',\n",
    "            'NJ': 'New Jersey',\n",
    "            'NM': 'New Mexico',\n",
    "            'NV': 'Nevada',\n",
    "            'NY': 'New York',\n",
    "            'NYC': 'New York',\n",
    "            'OH': 'Ohio',\n",
    "            'OK': 'Oklahoma',\n",
    "            'OR': 'Oregon',\n",
    "            'PA': 'Pennsylvania',\n",
    "            'PR': 'Puerto Rico',\n",
    "            'RI': 'Rhode Island',\n",
    "            'SC': 'South Carolina',\n",
    "            'SD': 'South Dakota',\n",
    "            'TN': 'Tennessee',\n",
    "            'TX': 'Texas',\n",
    "            'UT': 'Utah',\n",
    "            'VA': 'Virginia',\n",
    "            'VI': 'Virgin Islands',\n",
    "            'VT': 'Vermont',\n",
    "            'WA': 'Washington',\n",
    "            'WI': 'Wisconsin',\n",
    "            'WV': 'West Virginia',\n",
    "            'WY': 'Wyoming'\n",
    "    }\n",
    "\n",
    "    if(stateAbbreviation is not None):\n",
    "        if(stateAbbreviation in states):\n",
    "            return states[stateAbbreviation]\n",
    "        else:\n",
    "            return \"N/A\"   \n",
    "    else:\n",
    "        return \"N/A\"   \n",
    "    \n"
   ]
  },
  {
   "cell_type": "code",
   "execution_count": 3,
   "metadata": {
    "ExecuteTime": {
     "end_time": "2022-05-05T01:37:59.049810Z",
     "start_time": "2022-05-05T01:37:59.045766Z"
    }
   },
   "outputs": [
    {
     "name": "stderr",
     "output_type": "stream",
     "text": [
      "<ipython-input-3-1390d13c0cdd>:4: FutureWarning: Passing a negative integer is deprecated in version 1.0 and will not be supported in future version. Instead, use None to not limit the column width.\n",
      "  pd.set_option('display.max_colwidth', -1)\n"
     ]
    }
   ],
   "source": [
    "pd.set_option('display.max_rows', None)\n",
    "pd.set_option('display.max_columns', None)\n",
    "pd.set_option('display.width', None)\n",
    "pd.set_option('display.max_colwidth', -1)"
   ]
  },
  {
   "cell_type": "markdown",
   "metadata": {},
   "source": [
    "# Data Exploration & Data Cleaning"
   ]
  },
  {
   "cell_type": "code",
   "execution_count": 4,
   "metadata": {
    "ExecuteTime": {
     "end_time": "2022-05-05T01:38:06.441401Z",
     "start_time": "2022-05-05T01:38:06.403383Z"
    }
   },
   "outputs": [],
   "source": [
    "# covid_hashtags_full_preprocessed_df = pd.read_pickle('august_2020_tweets_topic_distribution.pkl')\n",
    "cdc_covid_data_df_raw = pd.read_csv(\"/Users/austingerner/Documents/gw/capstone/modeling/predictive/data/United_States_COVID-19_Cases_and_Deaths_by_State_over_Time.csv\")\n",
    "cdc_covid_data_df_raw['month'] = pd.DatetimeIndex(cdc_covid_data_df_raw['submission_date']).month\n",
    "cdc_covid_data_df = cdc_covid_data_df_raw.groupby(['month', 'state']).agg({'new_case': 'sum', 'new_death': 'sum'}).reset_index()\n",
    "cdc_covid_data_df.state = cdc_covid_data_df.state.apply(lambda x: stateNames(x))\n",
    "\n"
   ]
  },
  {
   "cell_type": "code",
   "execution_count": 6,
   "metadata": {
    "ExecuteTime": {
     "end_time": "2022-05-05T01:40:35.778150Z",
     "start_time": "2022-05-05T01:38:15.476545Z"
    }
   },
   "outputs": [
    {
     "data": {
      "text/html": [
       "<div>\n",
       "<style scoped>\n",
       "    .dataframe tbody tr th:only-of-type {\n",
       "        vertical-align: middle;\n",
       "    }\n",
       "\n",
       "    .dataframe tbody tr th {\n",
       "        vertical-align: top;\n",
       "    }\n",
       "\n",
       "    .dataframe thead th {\n",
       "        text-align: right;\n",
       "    }\n",
       "</style>\n",
       "<table border=\"1\" class=\"dataframe\">\n",
       "  <thead>\n",
       "    <tr style=\"text-align: right;\">\n",
       "      <th></th>\n",
       "      <th>city</th>\n",
       "      <th>country</th>\n",
       "      <th>county</th>\n",
       "      <th>id</th>\n",
       "      <th>lang</th>\n",
       "      <th>latitude</th>\n",
       "      <th>longitude</th>\n",
       "      <th>state</th>\n",
       "      <th>text_x</th>\n",
       "      <th>created_at_month</th>\n",
       "      <th>topic_id</th>\n",
       "      <th>prevalence</th>\n",
       "    </tr>\n",
       "  </thead>\n",
       "  <tbody>\n",
       "    <tr>\n",
       "      <th>0</th>\n",
       "      <td>Norwalk</td>\n",
       "      <td>United States</td>\n",
       "      <td>Fairfield County</td>\n",
       "      <td>1252570534250008577</td>\n",
       "      <td>en</td>\n",
       "      <td>41.113660</td>\n",
       "      <td>-73.407654</td>\n",
       "      <td>Connecticut</td>\n",
       "      <td>#GASB's proposal postpones almost all Statement and Implementation Guide effective dates for fiscal years 2019 and… https://t.co/ohIGhlOpAz</td>\n",
       "      <td>4</td>\n",
       "      <td>33</td>\n",
       "      <td>0.015782</td>\n",
       "    </tr>\n",
       "    <tr>\n",
       "      <th>1</th>\n",
       "      <td>New York</td>\n",
       "      <td>United States</td>\n",
       "      <td>New York County</td>\n",
       "      <td>1303414058255675392</td>\n",
       "      <td>en</td>\n",
       "      <td>40.773041</td>\n",
       "      <td>-73.957489</td>\n",
       "      <td>New York</td>\n",
       "      <td>@UNICEF will lead global procurement &amp;amp; supply of #COVID19 vaccines for #COVAX, the World Health Organization (@WHO)… https://t.co/1gzepELKrK</td>\n",
       "      <td>9</td>\n",
       "      <td>11</td>\n",
       "      <td>0.010290</td>\n",
       "    </tr>\n",
       "    <tr>\n",
       "      <th>3</th>\n",
       "      <td>Atlanta</td>\n",
       "      <td>United States</td>\n",
       "      <td>Fulton County</td>\n",
       "      <td>1248188906148892673</td>\n",
       "      <td>en</td>\n",
       "      <td>33.747421</td>\n",
       "      <td>-84.412048</td>\n",
       "      <td>Georgia</td>\n",
       "      <td>Are you looking for important information on how to ease capacity constraints and deal with patient flow issues fro… https://t.co/9L03iHK8sN</td>\n",
       "      <td>4</td>\n",
       "      <td>65</td>\n",
       "      <td>0.019514</td>\n",
       "    </tr>\n",
       "    <tr>\n",
       "      <th>4</th>\n",
       "      <td>Manteca</td>\n",
       "      <td>United States</td>\n",
       "      <td>San Joaquin County</td>\n",
       "      <td>1282149524442472448</td>\n",
       "      <td>en</td>\n",
       "      <td>37.799170</td>\n",
       "      <td>-121.232189</td>\n",
       "      <td>California</td>\n",
       "      <td>Why is #quarantine having me watch shows I normally wouldn’t watch? \\n#CloseEnoughMAX #sip2020 #streaming #COVID19</td>\n",
       "      <td>7</td>\n",
       "      <td>0</td>\n",
       "      <td>0.010181</td>\n",
       "    </tr>\n",
       "    <tr>\n",
       "      <th>9</th>\n",
       "      <td>New York</td>\n",
       "      <td>United States</td>\n",
       "      <td>New York County</td>\n",
       "      <td>1308399742993473538</td>\n",
       "      <td>en</td>\n",
       "      <td>40.773041</td>\n",
       "      <td>-73.957489</td>\n",
       "      <td>New York</td>\n",
       "      <td>From Dr. Fauci direct\\nListen to experts not politicians and you might survive a pandemic\\n\\n40+% get infected from as… https://t.co/uPLZCCzCWX</td>\n",
       "      <td>9</td>\n",
       "      <td>60</td>\n",
       "      <td>0.014944</td>\n",
       "    </tr>\n",
       "  </tbody>\n",
       "</table>\n",
       "</div>"
      ],
      "text/plain": [
       "       city        country              county                   id lang  \\\n",
       "0  Norwalk   United States  Fairfield County    1252570534250008577  en    \n",
       "1  New York  United States  New York County     1303414058255675392  en    \n",
       "3  Atlanta   United States  Fulton County       1248188906148892673  en    \n",
       "4  Manteca   United States  San Joaquin County  1282149524442472448  en    \n",
       "9  New York  United States  New York County     1308399742993473538  en    \n",
       "\n",
       "    latitude   longitude        state  \\\n",
       "0  41.113660 -73.407654   Connecticut   \n",
       "1  40.773041 -73.957489   New York      \n",
       "3  33.747421 -84.412048   Georgia       \n",
       "4  37.799170 -121.232189  California    \n",
       "9  40.773041 -73.957489   New York      \n",
       "\n",
       "                                                                                                                                             text_x  \\\n",
       "0  #GASB's proposal postpones almost all Statement and Implementation Guide effective dates for fiscal years 2019 and… https://t.co/ohIGhlOpAz        \n",
       "1  @UNICEF will lead global procurement &amp; supply of #COVID19 vaccines for #COVAX, the World Health Organization (@WHO)… https://t.co/1gzepELKrK   \n",
       "3  Are you looking for important information on how to ease capacity constraints and deal with patient flow issues fro… https://t.co/9L03iHK8sN       \n",
       "4  Why is #quarantine having me watch shows I normally wouldn’t watch? \\n#CloseEnoughMAX #sip2020 #streaming #COVID19                                 \n",
       "9  From Dr. Fauci direct\\nListen to experts not politicians and you might survive a pandemic\\n\\n40+% get infected from as… https://t.co/uPLZCCzCWX    \n",
       "\n",
       "   created_at_month  topic_id  prevalence  \n",
       "0  4                 33        0.015782    \n",
       "1  9                 11        0.010290    \n",
       "3  4                 65        0.019514    \n",
       "4  7                 0         0.010181    \n",
       "9  9                 60        0.014944    "
      ]
     },
     "execution_count": 6,
     "metadata": {},
     "output_type": "execute_result"
    }
   ],
   "source": [
    "tweets_distribution_geolocation_df = pd.read_pickle(\"/Users/austingerner/Documents/gw/capstone/modeling/lda/data/tweet_topic_distribution_location.pkl\")\n",
    "tweets_distribution_geolocation_df = tweets_distribution_geolocation_df.drop(columns = ['tidy_tweet','tidy_tweet_tokens', 'tokens_no_stop',\n",
    "                                                                                        'hashtags', 'stemmed', 'new_tweets_corpus', 'max_count', 'total_docs',\n",
    "                                                                                       'no_stop_joined', 'created_at'])\n",
    "\n"
   ]
  },
  {
   "cell_type": "code",
   "execution_count": 7,
   "metadata": {
    "ExecuteTime": {
     "end_time": "2022-05-05T01:40:54.514191Z",
     "start_time": "2022-05-05T01:40:35.784086Z"
    }
   },
   "outputs": [
    {
     "data": {
      "text/html": [
       "<div>\n",
       "<style scoped>\n",
       "    .dataframe tbody tr th:only-of-type {\n",
       "        vertical-align: middle;\n",
       "    }\n",
       "\n",
       "    .dataframe tbody tr th {\n",
       "        vertical-align: top;\n",
       "    }\n",
       "\n",
       "    .dataframe thead th {\n",
       "        text-align: right;\n",
       "    }\n",
       "</style>\n",
       "<table border=\"1\" class=\"dataframe\">\n",
       "  <thead>\n",
       "    <tr style=\"text-align: right;\">\n",
       "      <th></th>\n",
       "      <th>id</th>\n",
       "      <th>topic_id</th>\n",
       "      <th>negative</th>\n",
       "      <th>neutral</th>\n",
       "      <th>positive</th>\n",
       "      <th>compound</th>\n",
       "      <th>sentiment</th>\n",
       "    </tr>\n",
       "  </thead>\n",
       "  <tbody>\n",
       "    <tr>\n",
       "      <th>0</th>\n",
       "      <td>1252570534250008577</td>\n",
       "      <td>33</td>\n",
       "      <td>0.148</td>\n",
       "      <td>0.634</td>\n",
       "      <td>0.218</td>\n",
       "      <td>0.2500</td>\n",
       "      <td>1</td>\n",
       "    </tr>\n",
       "    <tr>\n",
       "      <th>1</th>\n",
       "      <td>1303414058255675392</td>\n",
       "      <td>11</td>\n",
       "      <td>0.000</td>\n",
       "      <td>1.000</td>\n",
       "      <td>0.000</td>\n",
       "      <td>0.0000</td>\n",
       "      <td>0</td>\n",
       "    </tr>\n",
       "    <tr>\n",
       "      <th>3</th>\n",
       "      <td>1248188906148892673</td>\n",
       "      <td>65</td>\n",
       "      <td>0.000</td>\n",
       "      <td>0.677</td>\n",
       "      <td>0.323</td>\n",
       "      <td>0.5106</td>\n",
       "      <td>1</td>\n",
       "    </tr>\n",
       "    <tr>\n",
       "      <th>4</th>\n",
       "      <td>1282149524442472448</td>\n",
       "      <td>0</td>\n",
       "      <td>0.000</td>\n",
       "      <td>1.000</td>\n",
       "      <td>0.000</td>\n",
       "      <td>0.0000</td>\n",
       "      <td>0</td>\n",
       "    </tr>\n",
       "    <tr>\n",
       "      <th>9</th>\n",
       "      <td>1308399742993473538</td>\n",
       "      <td>60</td>\n",
       "      <td>0.242</td>\n",
       "      <td>0.758</td>\n",
       "      <td>0.000</td>\n",
       "      <td>-0.4939</td>\n",
       "      <td>-1</td>\n",
       "    </tr>\n",
       "  </tbody>\n",
       "</table>\n",
       "</div>"
      ],
      "text/plain": [
       "                    id  topic_id  negative  neutral  positive  compound  \\\n",
       "0  1252570534250008577  33        0.148     0.634    0.218     0.2500     \n",
       "1  1303414058255675392  11        0.000     1.000    0.000     0.0000     \n",
       "3  1248188906148892673  65        0.000     0.677    0.323     0.5106     \n",
       "4  1282149524442472448  0         0.000     1.000    0.000     0.0000     \n",
       "9  1308399742993473538  60        0.242     0.758    0.000    -0.4939     \n",
       "\n",
       "   sentiment  \n",
       "0  1          \n",
       "1  0          \n",
       "3  1          \n",
       "4  0          \n",
       "9 -1          "
      ]
     },
     "execution_count": 7,
     "metadata": {},
     "output_type": "execute_result"
    }
   ],
   "source": [
    "sentiment_analysis_vader_results_df = pd.read_pickle('/Users/austingerner/Documents/gw/capstone/modeling/sentiment/data/sentiment_analysis_vader_results_capstone.pkl')\n",
    "sentiment_analysis_vader_results_df = sentiment_analysis_vader_results_df.drop(columns = ['tokens_no_stop', 'tidy_tweet', 'lemmatized'])\n",
    "sentiment_analysis_vader_results_df.head()\n"
   ]
  },
  {
   "cell_type": "code",
   "execution_count": 44,
   "metadata": {
    "ExecuteTime": {
     "end_time": "2022-05-05T03:55:32.610942Z",
     "start_time": "2022-05-05T03:55:26.447924Z"
    }
   },
   "outputs": [],
   "source": [
    "tweets_distribution_sentiment_geolocation_df = pd.merge(tweets_distribution_geolocation_df, sentiment_analysis_vader_results_df, left_on=['id', 'topic_id'], right_on = ['id', 'topic_id'])\n",
    "tweets_distribution_sentiment_geolocation_new_cases_deaths = pd.merge(tweets_distribution_sentiment_geolocation_df, cdc_covid_data_df, left_on=['state', 'created_at_month'], right_on = ['state', 'month'])\n",
    "tweets_distribution_sentiment_geolocation_new_cases_deaths.drop_duplicates(subset =\"id\", \n",
    "                     keep = 'first', inplace = True)\n",
    "tweets_distribution_sentiment_geolocation_new_cases_deaths['count'] = 1\n",
    "tweets_distribution_sentiment_geolocation_new_cases_deaths = tweets_distribution_sentiment_geolocation_new_cases_deaths.sort_values(by=[\"state\",'created_at_month'], ascending=[True, True])\n",
    "\n"
   ]
  },
  {
   "cell_type": "markdown",
   "metadata": {},
   "source": [
    "# Build Model Tables"
   ]
  },
  {
   "cell_type": "code",
   "execution_count": 72,
   "metadata": {
    "ExecuteTime": {
     "end_time": "2022-05-05T04:35:51.137348Z",
     "start_time": "2022-05-05T04:35:51.091725Z"
    }
   },
   "outputs": [],
   "source": [
    "\n",
    "cdc_covid_data_df_month_3 = cdc_covid_data_df.copy()\n",
    "cdc_covid_data_df_month_4 = cdc_covid_data_df.copy()\n",
    "cdc_covid_data_df_month_5 = cdc_covid_data_df.copy()\n",
    "cdc_covid_data_df_month_6 = cdc_covid_data_df.copy()\n",
    "cdc_covid_data_df_month_7 = cdc_covid_data_df.copy()\n",
    "cdc_covid_data_df_month_8 = cdc_covid_data_df.copy()\n",
    "cdc_covid_data_df_month_9 = cdc_covid_data_df.copy()\n",
    "cdc_covid_data_df_month_10 = cdc_covid_data_df.copy()\n",
    "cdc_covid_data_df_month_11 = cdc_covid_data_df.copy()\n",
    "cdc_covid_data_df_month_12 = cdc_covid_data_df.copy()\n",
    "\n",
    "\n",
    "cdc_covid_data_df_month_3 = cdc_covid_data_df_month_3.loc[cdc_covid_data_df_month_3.month == 3]\n",
    "cdc_covid_data_df_month_4 = cdc_covid_data_df_month_4.loc[cdc_covid_data_df_month_4.month == 4]\n",
    "cdc_covid_data_df_month_5 = cdc_covid_data_df_month_5.loc[cdc_covid_data_df_month_5.month == 5]\n",
    "cdc_covid_data_df_month_6 = cdc_covid_data_df_month_6.loc[cdc_covid_data_df_month_6.month == 6]\n",
    "cdc_covid_data_df_month_7 = cdc_covid_data_df_month_7.loc[cdc_covid_data_df_month_7.month == 7]\n",
    "cdc_covid_data_df_month_8 = cdc_covid_data_df_month_8.loc[cdc_covid_data_df_month_8.month == 8]\n",
    "cdc_covid_data_df_month_9 = cdc_covid_data_df_month_9.loc[cdc_covid_data_df_month_9.month == 9]\n",
    "cdc_covid_data_df_month_10 = cdc_covid_data_df_month_10.loc[cdc_covid_data_df_month_10.month == 10]\n",
    "cdc_covid_data_df_month_11 = cdc_covid_data_df_month_11.loc[cdc_covid_data_df_month_11.month == 11]\n",
    "cdc_covid_data_df_month_12 = cdc_covid_data_df_month_12.loc[cdc_covid_data_df_month_12.month == 12]\n",
    "\n",
    "\n",
    "cdc_covid_data_df_month_3.drop_duplicates(subset =\"state\", \n",
    "                     keep = 'first', inplace = True)\n",
    "\n",
    "cdc_covid_data_df_month_4.drop_duplicates(subset =\"state\", \n",
    "                     keep = 'first', inplace = True)\n",
    "cdc_covid_data_df_month_5.drop_duplicates(subset =\"state\", \n",
    "                     keep = 'first', inplace = True)\n",
    "cdc_covid_data_df_month_6.drop_duplicates(subset =\"state\", \n",
    "                     keep = 'first', inplace = True)\n",
    "cdc_covid_data_df_month_7.drop_duplicates(subset =\"state\", \n",
    "                     keep = 'first', inplace = True)\n",
    "cdc_covid_data_df_month_8.drop_duplicates(subset =\"state\", \n",
    "                     keep = 'first', inplace = True)\n",
    "cdc_covid_data_df_month_9.drop_duplicates(subset =\"state\", \n",
    "                     keep = 'first', inplace = True)\n",
    "\n",
    "cdc_covid_data_df_month_10.drop_duplicates(subset =\"state\", \n",
    "                     keep = 'first', inplace = True)\n",
    "cdc_covid_data_df_month_11.drop_duplicates(subset =\"state\", \n",
    "                     keep = 'first', inplace = True)\n",
    "cdc_covid_data_df_month_12.drop_duplicates(subset =\"state\", \n",
    "                     keep = 'first', inplace = True)\n",
    "\n",
    "cdc_covid_data_df_month_3 = cdc_covid_data_df_month_3.loc[(cdc_covid_data_df_month_3.state != \"American Samoa\") & \n",
    "                                                         (cdc_covid_data_df_month_3.state != \"N/A\") &\n",
    "                                                         (cdc_covid_data_df_month_3.state != \"Northern Mariana Islands\") &\n",
    "                                                         (cdc_covid_data_df_month_3.state != \"Virgin Islands\")]\n",
    "cdc_covid_data_df_month_4 = cdc_covid_data_df_month_4.loc[(cdc_covid_data_df_month_4.state != \"American Samoa\") & \n",
    "                                                         (cdc_covid_data_df_month_4.state != \"N/A\") &\n",
    "                                                         (cdc_covid_data_df_month_4.state != \"Northern Mariana Islands\") &\n",
    "                                                         (cdc_covid_data_df_month_4.state != \"Virgin Islands\")]\n",
    "\n",
    "cdc_covid_data_df_month_5 = cdc_covid_data_df_month_5.loc[(cdc_covid_data_df_month_5.state != \"American Samoa\") & \n",
    "                                                         (cdc_covid_data_df_month_5.state != \"N/A\") &\n",
    "                                                         (cdc_covid_data_df_month_5.state != \"Northern Mariana Islands\") &\n",
    "                                                         (cdc_covid_data_df_month_5.state != \"Virgin Islands\")]\n",
    "cdc_covid_data_df_month_6 = cdc_covid_data_df_month_6.loc[(cdc_covid_data_df_month_6.state != \"American Samoa\") & \n",
    "                                                         (cdc_covid_data_df_month_6.state != \"N/A\") &\n",
    "                                                         (cdc_covid_data_df_month_6.state != \"Northern Mariana Islands\") &\n",
    "                                                         (cdc_covid_data_df_month_6.state != \"Virgin Islands\")]\n",
    "\n",
    "cdc_covid_data_df_month_7 = cdc_covid_data_df_month_7.loc[(cdc_covid_data_df_month_7.state != \"American Samoa\") & \n",
    "                                                         (cdc_covid_data_df_month_7.state != \"N/A\") &\n",
    "                                                         (cdc_covid_data_df_month_7.state != \"Northern Mariana Islands\") &\n",
    "                                                         (cdc_covid_data_df_month_7.state != \"Virgin Islands\")]\n",
    "\n",
    "cdc_covid_data_df_month_8 = cdc_covid_data_df_month_8.loc[(cdc_covid_data_df_month_8.state != \"American Samoa\") & \n",
    "                                                         (cdc_covid_data_df_month_8.state != \"N/A\") &\n",
    "                                                         (cdc_covid_data_df_month_8.state != \"Northern Mariana Islands\") &\n",
    "                                                         (cdc_covid_data_df_month_8.state != \"Virgin Islands\")]\n",
    "\n",
    "cdc_covid_data_df_month_9 = cdc_covid_data_df_month_9.loc[(cdc_covid_data_df_month_9.state != \"American Samoa\") & \n",
    "                                                         (cdc_covid_data_df_month_9.state != \"N/A\") &\n",
    "                                                         (cdc_covid_data_df_month_9.state != \"Northern Mariana Islands\") &\n",
    "                                                         (cdc_covid_data_df_month_9.state != \"Virgin Islands\")]\n",
    "cdc_covid_data_df_month_10 = cdc_covid_data_df_month_10.loc[(cdc_covid_data_df_month_10.state != \"American Samoa\") & \n",
    "                                                         (cdc_covid_data_df_month_10.state != \"N/A\") &\n",
    "                                                         (cdc_covid_data_df_month_10.state != \"Northern Mariana Islands\") &\n",
    "                                                         (cdc_covid_data_df_month_10.state != \"Virgin Islands\")]\n",
    "\n",
    "cdc_covid_data_df_month_11 = cdc_covid_data_df_month_11.loc[(cdc_covid_data_df_month_11.state != \"American Samoa\") & \n",
    "                                                         (cdc_covid_data_df_month_11.state != \"N/A\") &\n",
    "                                                         (cdc_covid_data_df_month_11.state != \"Northern Mariana Islands\") &\n",
    "                                                         (cdc_covid_data_df_month_11.state != \"Virgin Islands\")]\n",
    "\n",
    "cdc_covid_data_df_month_12 = cdc_covid_data_df_month_12.loc[(cdc_covid_data_df_month_12.state != \"American Samoa\") & \n",
    "                                                         (cdc_covid_data_df_month_12.state != \"N/A\") &\n",
    "                                                         (cdc_covid_data_df_month_12.state != \"Northern Mariana Islands\") &\n",
    "                                                         (cdc_covid_data_df_month_12.state != \"Virgin Islands\")]\n",
    "\n",
    "cdc_covid_data_df_month_3 = cdc_covid_data_df_month_3.rename(columns={'state': ('state', '')})\n",
    "cdc_covid_data_df_month_4 = cdc_covid_data_df_month_4.rename(columns={'state': ('state', '')})\n",
    "cdc_covid_data_df_month_5 = cdc_covid_data_df_month_5.rename(columns={'state': ('state', '')})\n",
    "cdc_covid_data_df_month_6 = cdc_covid_data_df_month_6.rename(columns={'state': ('state', '')})\n",
    "cdc_covid_data_df_month_7 = cdc_covid_data_df_month_7.rename(columns={'state': ('state', '')})\n",
    "cdc_covid_data_df_month_8 = cdc_covid_data_df_month_8.rename(columns={'state': ('state', '')})\n",
    "cdc_covid_data_df_month_9 = cdc_covid_data_df_month_9.rename(columns={'state': ('state', '')})\n",
    "cdc_covid_data_df_month_10 = cdc_covid_data_df_month_10.rename(columns={'state': ('state', '')})\n",
    "cdc_covid_data_df_month_11 = cdc_covid_data_df_month_11.rename(columns={'state': ('state', '')})\n",
    "cdc_covid_data_df_month_12 = cdc_covid_data_df_month_12.rename(columns={'state': ('state', '')})\n",
    "\n"
   ]
  },
  {
   "cell_type": "code",
   "execution_count": 73,
   "metadata": {
    "ExecuteTime": {
     "end_time": "2022-05-05T04:35:53.898654Z",
     "start_time": "2022-05-05T04:35:53.458521Z"
    }
   },
   "outputs": [],
   "source": [
    "march_tweets_distribution_sentiment_geolocation_new_cases_deaths = tweets_distribution_sentiment_geolocation_new_cases_deaths.loc[tweets_distribution_sentiment_geolocation_new_cases_deaths['created_at_month'] == 3]\n",
    "april_tweets_distribution_sentiment_geolocation_new_cases_deaths = tweets_distribution_sentiment_geolocation_new_cases_deaths.loc[tweets_distribution_sentiment_geolocation_new_cases_deaths['created_at_month'] == 4]\n",
    "may_tweets_distribution_sentiment_geolocation_new_cases_deaths = tweets_distribution_sentiment_geolocation_new_cases_deaths.loc[tweets_distribution_sentiment_geolocation_new_cases_deaths['created_at_month'] == 5]\n",
    "june_tweets_distribution_sentiment_geolocation_new_cases_deaths = tweets_distribution_sentiment_geolocation_new_cases_deaths.loc[tweets_distribution_sentiment_geolocation_new_cases_deaths['created_at_month'] == 6]\n",
    "july_tweets_distribution_sentiment_geolocation_new_cases_deaths = tweets_distribution_sentiment_geolocation_new_cases_deaths.loc[tweets_distribution_sentiment_geolocation_new_cases_deaths['created_at_month'] == 7]\n",
    "august_tweets_distribution_sentiment_geolocation_new_cases_deaths = tweets_distribution_sentiment_geolocation_new_cases_deaths.loc[tweets_distribution_sentiment_geolocation_new_cases_deaths['created_at_month'] == 8]\n",
    "september_tweets_distribution_sentiment_geolocation_new_cases_deaths = tweets_distribution_sentiment_geolocation_new_cases_deaths.loc[tweets_distribution_sentiment_geolocation_new_cases_deaths['created_at_month'] == 9]\n",
    "october_tweets_distribution_sentiment_geolocation_new_cases_deaths = tweets_distribution_sentiment_geolocation_new_cases_deaths.loc[tweets_distribution_sentiment_geolocation_new_cases_deaths['created_at_month'] == 10]\n",
    "november_tweets_distribution_sentiment_geolocation_new_cases_deaths = tweets_distribution_sentiment_geolocation_new_cases_deaths.loc[tweets_distribution_sentiment_geolocation_new_cases_deaths['created_at_month'] == 11]\n",
    "december_tweets_distribution_sentiment_geolocation_new_cases_deaths = tweets_distribution_sentiment_geolocation_new_cases_deaths.loc[tweets_distribution_sentiment_geolocation_new_cases_deaths['created_at_month'] == 12]\n",
    "\n",
    "\n",
    "\n",
    "\n",
    "\n",
    "\n",
    "\n"
   ]
  },
  {
   "cell_type": "code",
   "execution_count": 105,
   "metadata": {
    "ExecuteTime": {
     "end_time": "2022-05-05T05:09:15.188232Z",
     "start_time": "2022-05-05T05:09:15.052509Z"
    }
   },
   "outputs": [
    {
     "name": "stderr",
     "output_type": "stream",
     "text": [
      "/Applications/anaconda3/lib/python3.8/site-packages/pandas/core/reshape/merge.py:643: UserWarning: merging between different levels can give an unintended result (2 levels on the left,1 on the right)\n",
      "  warnings.warn(msg, UserWarning)\n"
     ]
    }
   ],
   "source": [
    "march_tweets_distribution_sentiment_geolocation_new_cases_deaths_stack_df = march_tweets_distribution_sentiment_geolocation_new_cases_deaths.copy()\n",
    "\n",
    "march_tweets_distribution_sentiment_geolocation_new_cases_deaths_stack_df = march_tweets_distribution_sentiment_geolocation_new_cases_deaths_stack_df.groupby([\"state\", \"topic_id\",]).agg({'count': 'sum', 'negative': 'count', 'neutral': 'count', 'positive': 'count'})\n",
    "\n",
    "march_tweets_distribution_sentiment_geolocation_new_cases_deaths_stack_df = march_tweets_distribution_sentiment_geolocation_new_cases_deaths_stack_df.unstack()\n",
    "march_tweets_distribution_sentiment_geolocation_new_cases_deaths_stack_df = march_tweets_distribution_sentiment_geolocation_new_cases_deaths_stack_df.reset_index()\n",
    "\n",
    "march_tweets_distribution_sentiment_geolocation_new_cases_deaths_stack_df = march_tweets_distribution_sentiment_geolocation_new_cases_deaths_stack_df.merge(cdc_covid_data_df_month_3, how='left')\n",
    "\n",
    "march_tweets_distribution_sentiment_geolocation_new_cases_deaths_stack_df = march_tweets_distribution_sentiment_geolocation_new_cases_deaths_stack_df.set_index(('state', '' ))\n",
    "\n"
   ]
  },
  {
   "cell_type": "code",
   "execution_count": null,
   "metadata": {
    "ExecuteTime": {
     "end_time": "2022-05-05T04:36:12.687826Z",
     "start_time": "2022-05-05T04:36:12.455170Z"
    }
   },
   "outputs": [],
   "source": []
  },
  {
   "cell_type": "code",
   "execution_count": 106,
   "metadata": {
    "ExecuteTime": {
     "end_time": "2022-05-05T05:09:16.139186Z",
     "start_time": "2022-05-05T05:09:15.907848Z"
    }
   },
   "outputs": [],
   "source": [
    "april_tweets_distribution_sentiment_geolocation_new_cases_deaths_stack_df = april_tweets_distribution_sentiment_geolocation_new_cases_deaths.copy()\n",
    "\n",
    "\n",
    "april_tweets_distribution_sentiment_geolocation_new_cases_deaths_stack_df = april_tweets_distribution_sentiment_geolocation_new_cases_deaths_stack_df.groupby([\"state\", \"topic_id\",]).agg({'count': 'sum', 'negative': 'count', 'neutral': 'count', 'positive': 'count'})\n",
    "\n",
    "april_tweets_distribution_sentiment_geolocation_new_cases_deaths_stack_df = april_tweets_distribution_sentiment_geolocation_new_cases_deaths_stack_df.unstack()\n",
    "april_tweets_distribution_sentiment_geolocation_new_cases_deaths_stack_df = april_tweets_distribution_sentiment_geolocation_new_cases_deaths_stack_df.reset_index()\n",
    "april_tweets_distribution_sentiment_geolocation_new_cases_deaths_stack_df = april_tweets_distribution_sentiment_geolocation_new_cases_deaths_stack_df.merge(cdc_covid_data_df_month_4, how='left')\n",
    "\n",
    "april_tweets_distribution_sentiment_geolocation_new_cases_deaths_stack_df = april_tweets_distribution_sentiment_geolocation_new_cases_deaths_stack_df.set_index(('state', '' ))\n",
    "\n"
   ]
  },
  {
   "cell_type": "code",
   "execution_count": 107,
   "metadata": {
    "ExecuteTime": {
     "end_time": "2022-05-05T05:09:16.394617Z",
     "start_time": "2022-05-05T05:09:16.289681Z"
    }
   },
   "outputs": [],
   "source": [
    "may_tweets_distribution_sentiment_geolocation_new_cases_deaths_stack_df = may_tweets_distribution_sentiment_geolocation_new_cases_deaths.copy()\n",
    "\n",
    "may_tweets_distribution_sentiment_geolocation_new_cases_deaths_stack_df = may_tweets_distribution_sentiment_geolocation_new_cases_deaths_stack_df.groupby([\"state\", \"topic_id\",]).agg({'count': 'sum', 'negative': 'count', 'neutral': 'count', 'positive': 'count'})\n",
    "\n",
    "may_tweets_distribution_sentiment_geolocation_new_cases_deaths_stack_df = may_tweets_distribution_sentiment_geolocation_new_cases_deaths_stack_df.unstack()\n",
    "may_tweets_distribution_sentiment_geolocation_new_cases_deaths_stack_df = may_tweets_distribution_sentiment_geolocation_new_cases_deaths_stack_df.reset_index()\n",
    "may_tweets_distribution_sentiment_geolocation_new_cases_deaths_stack_df = may_tweets_distribution_sentiment_geolocation_new_cases_deaths_stack_df.merge(cdc_covid_data_df_month_5, how='left')\n",
    "\n",
    "may_tweets_distribution_sentiment_geolocation_new_cases_deaths_stack_df = may_tweets_distribution_sentiment_geolocation_new_cases_deaths_stack_df.set_index(('state', '' ))\n",
    "\n"
   ]
  },
  {
   "cell_type": "code",
   "execution_count": 108,
   "metadata": {
    "ExecuteTime": {
     "end_time": "2022-05-05T05:09:16.725741Z",
     "start_time": "2022-05-05T05:09:16.654433Z"
    }
   },
   "outputs": [],
   "source": [
    "june_tweets_distribution_sentiment_geolocation_new_cases_deaths_stack_df = june_tweets_distribution_sentiment_geolocation_new_cases_deaths.copy()\n",
    "\n",
    "june_tweets_distribution_sentiment_geolocation_new_cases_deaths_stack_df = june_tweets_distribution_sentiment_geolocation_new_cases_deaths_stack_df.groupby([\"state\", \"topic_id\",]).agg({'count': 'sum', 'negative': 'count', 'neutral': 'count', 'positive': 'count'})\n",
    "\n",
    "june_tweets_distribution_sentiment_geolocation_new_cases_deaths_stack_df = june_tweets_distribution_sentiment_geolocation_new_cases_deaths_stack_df.unstack()\n",
    "june_tweets_distribution_sentiment_geolocation_new_cases_deaths_stack_df = june_tweets_distribution_sentiment_geolocation_new_cases_deaths_stack_df.reset_index()\n",
    "june_tweets_distribution_sentiment_geolocation_new_cases_deaths_stack_df = june_tweets_distribution_sentiment_geolocation_new_cases_deaths_stack_df.merge(cdc_covid_data_df_month_6, how='left')\n",
    "\n",
    "june_tweets_distribution_sentiment_geolocation_new_cases_deaths_stack_df = june_tweets_distribution_sentiment_geolocation_new_cases_deaths_stack_df.set_index(('state', '' ))\n",
    "\n"
   ]
  },
  {
   "cell_type": "code",
   "execution_count": 109,
   "metadata": {
    "ExecuteTime": {
     "end_time": "2022-05-05T05:09:17.071865Z",
     "start_time": "2022-05-05T05:09:17.001703Z"
    }
   },
   "outputs": [],
   "source": [
    "july_tweets_distribution_sentiment_geolocation_new_cases_deaths_stack_df = july_tweets_distribution_sentiment_geolocation_new_cases_deaths.copy()\n",
    "\n",
    "\n",
    "july_tweets_distribution_sentiment_geolocation_new_cases_deaths_stack_df = july_tweets_distribution_sentiment_geolocation_new_cases_deaths_stack_df.groupby([\"state\", \"topic_id\",]).agg({'count': 'sum', 'negative': 'count', 'neutral': 'count', 'positive': 'count'})\n",
    "\n",
    "july_tweets_distribution_sentiment_geolocation_new_cases_deaths_stack_df = july_tweets_distribution_sentiment_geolocation_new_cases_deaths_stack_df.unstack()\n",
    "july_tweets_distribution_sentiment_geolocation_new_cases_deaths_stack_df = july_tweets_distribution_sentiment_geolocation_new_cases_deaths_stack_df.reset_index()\n",
    "july_tweets_distribution_sentiment_geolocation_new_cases_deaths_stack_df = july_tweets_distribution_sentiment_geolocation_new_cases_deaths_stack_df.merge(cdc_covid_data_df_month_7, how='left')\n",
    "july_tweets_distribution_sentiment_geolocation_new_cases_deaths_stack_df = july_tweets_distribution_sentiment_geolocation_new_cases_deaths_stack_df.set_index(('state', '' ))\n",
    "\n"
   ]
  },
  {
   "cell_type": "code",
   "execution_count": 110,
   "metadata": {
    "ExecuteTime": {
     "end_time": "2022-05-05T05:09:17.409907Z",
     "start_time": "2022-05-05T05:09:17.352182Z"
    }
   },
   "outputs": [],
   "source": [
    "august_tweets_distribution_sentiment_geolocation_new_cases_deaths_stack_df = august_tweets_distribution_sentiment_geolocation_new_cases_deaths.copy()\n",
    "\n",
    "august_tweets_distribution_sentiment_geolocation_new_cases_deaths_stack_df = august_tweets_distribution_sentiment_geolocation_new_cases_deaths_stack_df.groupby([\"state\", \"topic_id\",]).agg({'count': 'sum', 'negative': 'count', 'neutral': 'count', 'positive': 'count'})\n",
    "\n",
    "august_tweets_distribution_sentiment_geolocation_new_cases_deaths_stack_df = august_tweets_distribution_sentiment_geolocation_new_cases_deaths_stack_df.unstack()\n",
    "august_tweets_distribution_sentiment_geolocation_new_cases_deaths_stack_df = august_tweets_distribution_sentiment_geolocation_new_cases_deaths_stack_df.reset_index()\n",
    "august_tweets_distribution_sentiment_geolocation_new_cases_deaths_stack_df = august_tweets_distribution_sentiment_geolocation_new_cases_deaths_stack_df.merge(cdc_covid_data_df_month_8, how='left')\n",
    "\n",
    "august_tweets_distribution_sentiment_geolocation_new_cases_deaths_stack_df = august_tweets_distribution_sentiment_geolocation_new_cases_deaths_stack_df.set_index(('state', '' ))\n",
    "\n"
   ]
  },
  {
   "cell_type": "code",
   "execution_count": 111,
   "metadata": {
    "ExecuteTime": {
     "end_time": "2022-05-05T05:09:17.759076Z",
     "start_time": "2022-05-05T05:09:17.686557Z"
    }
   },
   "outputs": [],
   "source": [
    "september_tweets_distribution_sentiment_geolocation_new_cases_deaths_stack_df = september_tweets_distribution_sentiment_geolocation_new_cases_deaths.copy()\n",
    "\n",
    "september_tweets_distribution_sentiment_geolocation_new_cases_deaths_stack_df = september_tweets_distribution_sentiment_geolocation_new_cases_deaths_stack_df.groupby([\"state\", \"topic_id\",]).agg({'count': 'sum', 'negative': 'count', 'neutral': 'count', 'positive': 'count'})\n",
    "\n",
    "september_tweets_distribution_sentiment_geolocation_new_cases_deaths_stack_df = september_tweets_distribution_sentiment_geolocation_new_cases_deaths_stack_df.unstack()\n",
    "september_tweets_distribution_sentiment_geolocation_new_cases_deaths_stack_df = september_tweets_distribution_sentiment_geolocation_new_cases_deaths_stack_df.reset_index()\n",
    "september_tweets_distribution_sentiment_geolocation_new_cases_deaths_stack_df = september_tweets_distribution_sentiment_geolocation_new_cases_deaths_stack_df.merge(cdc_covid_data_df_month_9, how='left')\n",
    "\n",
    "september_tweets_distribution_sentiment_geolocation_new_cases_deaths_stack_df = september_tweets_distribution_sentiment_geolocation_new_cases_deaths_stack_df.set_index(('state', '' ))\n",
    "\n"
   ]
  },
  {
   "cell_type": "code",
   "execution_count": 112,
   "metadata": {
    "ExecuteTime": {
     "end_time": "2022-05-05T05:09:18.054287Z",
     "start_time": "2022-05-05T05:09:18.003249Z"
    }
   },
   "outputs": [],
   "source": [
    "october_tweets_distribution_sentiment_geolocation_new_cases_deaths_stack_df = october_tweets_distribution_sentiment_geolocation_new_cases_deaths.copy()\n",
    "\n",
    "october_tweets_distribution_sentiment_geolocation_new_cases_deaths_stack_df = october_tweets_distribution_sentiment_geolocation_new_cases_deaths_stack_df.groupby([\"state\", \"topic_id\",]).agg({'count': 'sum', 'negative': 'count', 'neutral': 'count', 'positive': 'count'})\n",
    "\n",
    "october_tweets_distribution_sentiment_geolocation_new_cases_deaths_stack_df = october_tweets_distribution_sentiment_geolocation_new_cases_deaths_stack_df.unstack()\n",
    "october_tweets_distribution_sentiment_geolocation_new_cases_deaths_stack_df = october_tweets_distribution_sentiment_geolocation_new_cases_deaths_stack_df.reset_index()\n",
    "october_tweets_distribution_sentiment_geolocation_new_cases_deaths_stack_df = october_tweets_distribution_sentiment_geolocation_new_cases_deaths_stack_df.merge(cdc_covid_data_df_month_10, how='left')\n",
    "\n",
    "october_tweets_distribution_sentiment_geolocation_new_cases_deaths_stack_df = october_tweets_distribution_sentiment_geolocation_new_cases_deaths_stack_df.set_index(('state', '' ))\n",
    "\n"
   ]
  },
  {
   "cell_type": "code",
   "execution_count": 113,
   "metadata": {
    "ExecuteTime": {
     "end_time": "2022-05-05T05:09:18.365029Z",
     "start_time": "2022-05-05T05:09:18.318686Z"
    }
   },
   "outputs": [],
   "source": [
    "november_tweets_distribution_sentiment_geolocation_new_cases_deaths_stack_df = november_tweets_distribution_sentiment_geolocation_new_cases_deaths.copy()\n",
    "\n",
    "november_tweets_distribution_sentiment_geolocation_new_cases_deaths_stack_df = november_tweets_distribution_sentiment_geolocation_new_cases_deaths_stack_df.groupby([\"state\", \"topic_id\",]).agg({'count': 'sum', 'negative': 'count', 'neutral': 'count', 'positive': 'count'})\n",
    "\n",
    "november_tweets_distribution_sentiment_geolocation_new_cases_deaths_stack_df = november_tweets_distribution_sentiment_geolocation_new_cases_deaths_stack_df.unstack()\n",
    "november_tweets_distribution_sentiment_geolocation_new_cases_deaths_stack_df = november_tweets_distribution_sentiment_geolocation_new_cases_deaths_stack_df.reset_index()\n",
    "november_tweets_distribution_sentiment_geolocation_new_cases_deaths_stack_df = november_tweets_distribution_sentiment_geolocation_new_cases_deaths_stack_df.merge(cdc_covid_data_df_month_11, how='left')\n",
    "\n",
    "november_tweets_distribution_sentiment_geolocation_new_cases_deaths_stack_df = november_tweets_distribution_sentiment_geolocation_new_cases_deaths_stack_df.set_index(('state', '' ))\n",
    "\n"
   ]
  },
  {
   "cell_type": "code",
   "execution_count": 114,
   "metadata": {
    "ExecuteTime": {
     "end_time": "2022-05-05T05:09:18.637555Z",
     "start_time": "2022-05-05T05:09:18.617954Z"
    }
   },
   "outputs": [],
   "source": [
    "december_tweets_distribution_sentiment_geolocation_new_cases_deaths_stack_df = december_tweets_distribution_sentiment_geolocation_new_cases_deaths.copy()\n",
    "\n",
    "december_tweets_distribution_sentiment_geolocation_new_cases_deaths_stack_df = december_tweets_distribution_sentiment_geolocation_new_cases_deaths_stack_df.groupby([\"state\", \"topic_id\",]).agg({'count': 'sum', 'negative': 'count', 'neutral': 'count', 'positive': 'count'})\n",
    "\n",
    "december_tweets_distribution_sentiment_geolocation_new_cases_deaths_stack_df = december_tweets_distribution_sentiment_geolocation_new_cases_deaths_stack_df.unstack()\n",
    "december_tweets_distribution_sentiment_geolocation_new_cases_deaths_stack_df = december_tweets_distribution_sentiment_geolocation_new_cases_deaths_stack_df.reset_index()\n",
    "december_tweets_distribution_sentiment_geolocation_new_cases_deaths_stack_df = december_tweets_distribution_sentiment_geolocation_new_cases_deaths_stack_df.merge(cdc_covid_data_df_month_12, how='left')\n",
    "\n",
    "december_tweets_distribution_sentiment_geolocation_new_cases_deaths_stack_df = december_tweets_distribution_sentiment_geolocation_new_cases_deaths_stack_df.set_index(('state', '' ))\n",
    "\n"
   ]
  },
  {
   "cell_type": "markdown",
   "metadata": {
    "ExecuteTime": {
     "end_time": "2022-05-05T05:09:25.289417Z",
     "start_time": "2022-05-05T05:09:25.063522Z"
    }
   },
   "source": [
    "# Model Comparision"
   ]
  },
  {
   "cell_type": "code",
   "execution_count": 689,
   "metadata": {
    "ExecuteTime": {
     "end_time": "2022-05-06T04:18:56.620347Z",
     "start_time": "2022-05-06T04:18:56.593414Z"
    }
   },
   "outputs": [],
   "source": [
    "from math import sqrt\n",
    "from sklearn.metrics import mean_squared_error\n",
    "from sklearn.metrics import mean_absolute_error\n",
    "from sklearn.ensemble import RandomForestClassifier\n",
    "from sklearn import preprocessing\n",
    "from sklearn.model_selection import train_test_split\n",
    "from sklearn.metrics import plot_confusion_matrix\n",
    "from sklearn.metrics import roc_auc_score\n",
    "import numpy as np\n",
    "from sklearn.experimental import enable_iterative_imputer\n",
    "from sklearn.impute import SimpleImputer\n",
    "from sklearn.ensemble import RandomForestRegressor\n",
    "from sklearn.model_selection import RandomizedSearchCV\n",
    "from sklearn.ensemble import RandomForestRegressor\n",
    "from sklearn.impute import IterativeImputer\n",
    "from sklearn.datasets import *\n",
    "from sklearn import tree\n",
    "from sklearn.linear_model import Ridge\n",
    "from sklearn.linear_model import Lasso\n",
    "from sklearn.linear_model import ElasticNet\n",
    "from sklearn.tree import DecisionTreeRegressor\n",
    "from sklearn.ensemble import GradientBoostingRegressor\n",
    "from sklearn.neighbors import KNeighborsRegressor\n",
    "from sklearn.linear_model import LinearRegression\n",
    "from sklearn.preprocessing import LabelEncoder, StandardScaler\n",
    "from sklearn.pipeline import Pipeline\n",
    "from sklearn.model_selection import GridSearchCV, TimeSeriesSplit, train_test_split\n",
    "from sklearn.metrics import mean_absolute_error\n",
    "from sklearn.model_selection import cross_val_score # Cross Validation Function.\n",
    "from sklearn.model_selection import KFold # KFold Class.\n",
    "from sklearn.linear_model import LinearRegression # Linear Regression class.\n",
    "from sklearn.linear_model import LogisticRegression # Linear Regression class.\n",
    "from sklearn.linear_model import SGDRegressor\n",
    "\n",
    "\n",
    "#import xgboost as xgb\n",
    "RSEED = 42\n",
    "from sklearn.linear_model import LassoCV\n",
    "\n",
    "from sklearn.metrics import mean_squared_error as MSE\n",
    "from yellowbrick.regressor import ResidualsPlot, PredictionError\n",
    "\n",
    "from sklearn.metrics import roc_curve, auc\n",
    "from sklearn.model_selection import train_test_split\n",
    "from sklearn.preprocessing import label_binarize\n",
    "#rf = RandomForestRegressor(random_state = 42)\n",
    "from yellowbrick.regressor import AlphaSelection\n",
    "from sklearn.model_selection import GridSearchCV\n",
    "\n",
    "from pprint import pprint"
   ]
  },
  {
   "cell_type": "code",
   "execution_count": 646,
   "metadata": {
    "ExecuteTime": {
     "end_time": "2022-05-06T03:57:58.512635Z",
     "start_time": "2022-05-06T03:57:58.460854Z"
    }
   },
   "outputs": [],
   "source": [
    "march_tweets_distribution_sentiment_geolocation_new_cases_deaths_stack_df.shape\n",
    "frames = [march_tweets_distribution_sentiment_geolocation_new_cases_deaths_stack_df,\n",
    "         april_tweets_distribution_sentiment_geolocation_new_cases_deaths_stack_df,\n",
    "         may_tweets_distribution_sentiment_geolocation_new_cases_deaths_stack_df,\n",
    "         june_tweets_distribution_sentiment_geolocation_new_cases_deaths_stack_df,\n",
    "         july_tweets_distribution_sentiment_geolocation_new_cases_deaths_stack_df,\n",
    "         august_tweets_distribution_sentiment_geolocation_new_cases_deaths_stack_df,\n",
    "         september_tweets_distribution_sentiment_geolocation_new_cases_deaths_stack_df,\n",
    "         october_tweets_distribution_sentiment_geolocation_new_cases_deaths_stack_df,\n",
    "         november_tweets_distribution_sentiment_geolocation_new_cases_deaths_stack_df]\n",
    "\n",
    "modeling_table = pd.concat(frames)\n",
    "modeling_table = modeling_table.reset_index()\n",
    "modeling_table['state'] = pd.factorize(modeling_table[('state', '')])[0]\n",
    "\n",
    "modeling_table = modeling_table.drop(columns = [('state', '')])\n",
    "\n"
   ]
  },
  {
   "cell_type": "markdown",
   "metadata": {},
   "source": [
    "## New Cases"
   ]
  },
  {
   "cell_type": "code",
   "execution_count": 693,
   "metadata": {
    "ExecuteTime": {
     "end_time": "2022-05-06T04:20:30.924439Z",
     "start_time": "2022-05-06T04:20:26.256944Z"
    }
   },
   "outputs": [
    {
     "name": "stderr",
     "output_type": "stream",
     "text": [
      "/Applications/anaconda3/lib/python3.8/site-packages/sklearn/linear_model/_coordinate_descent.py:529: ConvergenceWarning: Objective did not converge. You might want to increase the number of iterations. Duality gap: 62286182937.042336, tolerance: 71346946.0314019\n",
      "  model = cd_fast.enet_coordinate_descent(\n",
      "/Applications/anaconda3/lib/python3.8/site-packages/sklearn/linear_model/_logistic.py:762: ConvergenceWarning: lbfgs failed to converge (status=1):\n",
      "STOP: TOTAL NO. of ITERATIONS REACHED LIMIT.\n",
      "\n",
      "Increase the number of iterations (max_iter) or scale the data as shown in:\n",
      "    https://scikit-learn.org/stable/modules/preprocessing.html\n",
      "Please also refer to the documentation for alternative solver options:\n",
      "    https://scikit-learn.org/stable/modules/linear_model.html#logistic-regression\n",
      "  n_iter_i = _check_optimize_result(\n"
     ]
    },
    {
     "data": {
      "text/html": [
       "<div>\n",
       "<style scoped>\n",
       "    .dataframe tbody tr th:only-of-type {\n",
       "        vertical-align: middle;\n",
       "    }\n",
       "\n",
       "    .dataframe tbody tr th {\n",
       "        vertical-align: top;\n",
       "    }\n",
       "\n",
       "    .dataframe thead th {\n",
       "        text-align: right;\n",
       "    }\n",
       "</style>\n",
       "<table border=\"1\" class=\"dataframe\">\n",
       "  <thead>\n",
       "    <tr style=\"text-align: right;\">\n",
       "      <th></th>\n",
       "      <th>Method</th>\n",
       "      <th>Score</th>\n",
       "    </tr>\n",
       "  </thead>\n",
       "  <tbody>\n",
       "    <tr>\n",
       "      <th>1</th>\n",
       "      <td>KNeighborsRegressor</td>\n",
       "      <td>0.505552</td>\n",
       "    </tr>\n",
       "    <tr>\n",
       "      <th>2</th>\n",
       "      <td>RandomForestRegressor</td>\n",
       "      <td>0.441784</td>\n",
       "    </tr>\n",
       "    <tr>\n",
       "      <th>5</th>\n",
       "      <td>DecisionTreeRegressor</td>\n",
       "      <td>-0.018336</td>\n",
       "    </tr>\n",
       "    <tr>\n",
       "      <th>3</th>\n",
       "      <td>Lasso</td>\n",
       "      <td>-0.314804</td>\n",
       "    </tr>\n",
       "    <tr>\n",
       "      <th>4</th>\n",
       "      <td>Ridge</td>\n",
       "      <td>-0.358002</td>\n",
       "    </tr>\n",
       "    <tr>\n",
       "      <th>0</th>\n",
       "      <td>LinearRegression</td>\n",
       "      <td>-0.361367</td>\n",
       "    </tr>\n",
       "    <tr>\n",
       "      <th>6</th>\n",
       "      <td>LogisticRegression</td>\n",
       "      <td>-0.952428</td>\n",
       "    </tr>\n",
       "  </tbody>\n",
       "</table>\n",
       "</div>"
      ],
      "text/plain": [
       "                  Method     Score\n",
       "1  KNeighborsRegressor    0.505552\n",
       "2  RandomForestRegressor  0.441784\n",
       "5  DecisionTreeRegressor -0.018336\n",
       "3  Lasso                 -0.314804\n",
       "4  Ridge                 -0.358002\n",
       "0  LinearRegression      -0.361367\n",
       "6  LogisticRegression    -0.952428"
      ]
     },
     "execution_count": 693,
     "metadata": {},
     "output_type": "execute_result"
    }
   ],
   "source": [
    "train_features_new_cases, test_features_new_cases, train_labels_new_cases, test_labels_new_cases = train_test_split(modeling_table.drop(columns=['month', 'new_case', 'new_death']), modeling_table.new_case, test_size = 0.33, random_state=42)\n",
    "\n",
    "def scores(i):\n",
    "    lin = i()\n",
    "    lin.fit(train_features_new_cases, train_labels_new_cases)\n",
    "    y_pred=lin.predict(test_features_new_cases)\n",
    "    lin_r=r2_score(test_labels_new_cases, y_pred)\n",
    "    s.append(lin_r)\n",
    "\n",
    "   \n",
    "algos=[LinearRegression, KNeighborsRegressor, RandomForestRegressor, Lasso, Ridge, DecisionTreeRegressor, LogisticRegression ]\n",
    "s=[]\n",
    "\n",
    "for i in algos:\n",
    "    scores(i)\n",
    "   \n",
    "models = pd.DataFrame({'Method': ['LinearRegression', 'KNeighborsRegressor', 'RandomForestRegressor', 'Lasso', 'Ridge', 'DecisionTreeRegressor', 'LogisticRegression'],\n",
    "                      'Score': [s[0],s[1], s[2], s[3], s[4], s[5], s[6]]})\n",
    "models.sort_values(by='Score', ascending=False)"
   ]
  },
  {
   "cell_type": "markdown",
   "metadata": {},
   "source": [
    "## New Deaths"
   ]
  },
  {
   "cell_type": "code",
   "execution_count": 694,
   "metadata": {
    "ExecuteTime": {
     "end_time": "2022-05-06T04:21:26.520479Z",
     "start_time": "2022-05-06T04:21:22.328559Z"
    }
   },
   "outputs": [
    {
     "name": "stderr",
     "output_type": "stream",
     "text": [
      "/Applications/anaconda3/lib/python3.8/site-packages/sklearn/linear_model/_coordinate_descent.py:529: ConvergenceWarning: Objective did not converge. You might want to increase the number of iterations. Duality gap: 16191520.10284708, tolerance: 20612.714081504702\n",
      "  model = cd_fast.enet_coordinate_descent(\n",
      "/Applications/anaconda3/lib/python3.8/site-packages/sklearn/linear_model/_logistic.py:762: ConvergenceWarning: lbfgs failed to converge (status=1):\n",
      "STOP: TOTAL NO. of ITERATIONS REACHED LIMIT.\n",
      "\n",
      "Increase the number of iterations (max_iter) or scale the data as shown in:\n",
      "    https://scikit-learn.org/stable/modules/preprocessing.html\n",
      "Please also refer to the documentation for alternative solver options:\n",
      "    https://scikit-learn.org/stable/modules/linear_model.html#logistic-regression\n",
      "  n_iter_i = _check_optimize_result(\n"
     ]
    },
    {
     "data": {
      "text/html": [
       "<div>\n",
       "<style scoped>\n",
       "    .dataframe tbody tr th:only-of-type {\n",
       "        vertical-align: middle;\n",
       "    }\n",
       "\n",
       "    .dataframe tbody tr th {\n",
       "        vertical-align: top;\n",
       "    }\n",
       "\n",
       "    .dataframe thead th {\n",
       "        text-align: right;\n",
       "    }\n",
       "</style>\n",
       "<table border=\"1\" class=\"dataframe\">\n",
       "  <thead>\n",
       "    <tr style=\"text-align: right;\">\n",
       "      <th></th>\n",
       "      <th>Method</th>\n",
       "      <th>Score</th>\n",
       "    </tr>\n",
       "  </thead>\n",
       "  <tbody>\n",
       "    <tr>\n",
       "      <th>2</th>\n",
       "      <td>RandomForestRegressor</td>\n",
       "      <td>0.365916</td>\n",
       "    </tr>\n",
       "    <tr>\n",
       "      <th>5</th>\n",
       "      <td>DecisionTreeRegressor</td>\n",
       "      <td>0.347711</td>\n",
       "    </tr>\n",
       "    <tr>\n",
       "      <th>1</th>\n",
       "      <td>KNeighborsRegressor</td>\n",
       "      <td>0.345765</td>\n",
       "    </tr>\n",
       "    <tr>\n",
       "      <th>0</th>\n",
       "      <td>LinearRegression</td>\n",
       "      <td>0.021173</td>\n",
       "    </tr>\n",
       "    <tr>\n",
       "      <th>4</th>\n",
       "      <td>Ridge</td>\n",
       "      <td>0.020398</td>\n",
       "    </tr>\n",
       "    <tr>\n",
       "      <th>3</th>\n",
       "      <td>Lasso</td>\n",
       "      <td>0.019800</td>\n",
       "    </tr>\n",
       "    <tr>\n",
       "      <th>6</th>\n",
       "      <td>LogisticRegression</td>\n",
       "      <td>-0.283439</td>\n",
       "    </tr>\n",
       "  </tbody>\n",
       "</table>\n",
       "</div>"
      ],
      "text/plain": [
       "                  Method     Score\n",
       "2  RandomForestRegressor  0.365916\n",
       "5  DecisionTreeRegressor  0.347711\n",
       "1  KNeighborsRegressor    0.345765\n",
       "0  LinearRegression       0.021173\n",
       "4  Ridge                  0.020398\n",
       "3  Lasso                  0.019800\n",
       "6  LogisticRegression    -0.283439"
      ]
     },
     "execution_count": 694,
     "metadata": {},
     "output_type": "execute_result"
    }
   ],
   "source": [
    "\n",
    "\n",
    "train_features_new_deaths, test_features_new_deaths, train_labels_new_deaths, test_labels_new_deaths = train_test_split(modeling_table.drop(columns=['month', 'new_case', 'new_death']), modeling_table.new_death, test_size = 0.33, random_state=42)\n",
    "\n",
    "def scores(i):\n",
    "    lin = i()\n",
    "    lin.fit(train_features_new_deaths, train_labels_new_deaths)\n",
    "    y_pred=lin.predict(test_features_new_deaths)\n",
    "    lin_r=r2_score(test_labels_new_deaths, y_pred)\n",
    "    s.append(lin_r)\n",
    "\n",
    "   \n",
    "algos=[LinearRegression, KNeighborsRegressor, RandomForestRegressor, Lasso, Ridge, DecisionTreeRegressor,LogisticRegression ]\n",
    "s=[]\n",
    "\n",
    "for i in algos:\n",
    "    scores(i)\n",
    "   \n",
    "models = pd.DataFrame({'Method': ['LinearRegression', 'KNeighborsRegressor', 'RandomForestRegressor', 'Lasso', 'Ridge', 'DecisionTreeRegressor', 'LogisticRegression'],\n",
    "                      'Score': [s[0],s[1], s[2], s[3], s[4], s[5], s[6]]})\n",
    "models.sort_values(by='Score', ascending=False)\n"
   ]
  },
  {
   "cell_type": "markdown",
   "metadata": {},
   "source": [
    "# Predictive Modeling - Random Forests"
   ]
  },
  {
   "cell_type": "code",
   "execution_count": 811,
   "metadata": {
    "ExecuteTime": {
     "end_time": "2022-05-06T15:54:57.401176Z",
     "start_time": "2022-05-06T15:54:57.391126Z"
    }
   },
   "outputs": [],
   "source": [
    "def plot_results(model, param = 'n_estimators', name = 'Num Trees'):\n",
    "    param_name = 'param_%s' % param\n",
    "\n",
    "    # Extract information from the cross validation model\n",
    "    train_scores = model.cv_results_['mean_train_score']\n",
    "    test_scores = model.cv_results_['mean_test_score']\n",
    "    train_time = model.cv_results_['mean_fit_time']\n",
    "    param_values = list(model.cv_results_[param_name])\n",
    "    print('train_time', min(train_time))\n",
    "    print('max', max(train_time))\n",
    "\n",
    "    # Plot the scores over the parameter\n",
    "    plt.subplots(1, 2, figsize=(10, 6))\n",
    "    plt.subplot(121)\n",
    "    plt.plot(param_values, train_scores, 'bo-', label = 'train')\n",
    "    plt.plot(param_values, test_scores, 'go-', label = 'test')\n",
    "    plt.ylim(ymin = 0, ymax = 1)\n",
    "    plt.legend()\n",
    "    plt.xlabel(name)\n",
    "    plt.ylabel('R2')\n",
    "    plt.title('Score vs %s' % name)\n",
    "    \n",
    "    plt.subplot(122)\n",
    "    plt.plot(param_values, train_time, 'ro-')\n",
    "    plt.ylim(ymin = 0.0, ymax = 35.0)\n",
    "    plt.xlabel(name)\n",
    "    plt.ylabel('Train Time (sec)')\n",
    "    plt.title('Training Time vs %s' % name)\n",
    "    \n",
    "    \n",
    "    plt.tight_layout(pad = 4)"
   ]
  },
  {
   "cell_type": "markdown",
   "metadata": {
    "ExecuteTime": {
     "end_time": "2022-05-06T04:10:47.093107Z",
     "start_time": "2022-05-06T04:10:47.083267Z"
    }
   },
   "source": [
    "## New Deaths"
   ]
  },
  {
   "cell_type": "code",
   "execution_count": 721,
   "metadata": {
    "ExecuteTime": {
     "end_time": "2022-05-06T04:54:01.297265Z",
     "start_time": "2022-05-06T04:54:01.294252Z"
    }
   },
   "outputs": [],
   "source": [
    "from sklearn import model_selection\n",
    "from sklearn.ensemble import RandomForestRegressor\n",
    "from sklearn import metrics\n",
    "from sklearn.model_selection import KFold\n",
    "from sklearn.model_selection import RandomizedSearchCV\n",
    "from sklearn.metrics import mean_squared_error\n",
    "from math import sqrt\n",
    "from sklearn.metrics import accuracy_score\n",
    "from sklearn.metrics import r2_score\n"
   ]
  },
  {
   "cell_type": "code",
   "execution_count": 765,
   "metadata": {
    "ExecuteTime": {
     "end_time": "2022-05-06T06:37:21.245248Z",
     "start_time": "2022-05-06T06:32:47.779614Z"
    }
   },
   "outputs": [
    {
     "name": "stdout",
     "output_type": "stream",
     "text": [
      "{'bootstrap': [True, False],\n",
      " 'min_samples_leaf': [1, 2, 4],\n",
      " 'min_samples_split': [2, 5, 10],\n",
      " 'n_estimators': [10, 64, 118, 173, 227, 282, 336, 391, 445, 500]}\n",
      "Fitting 3 folds for each of 100 candidates, totalling 300 fits\n"
     ]
    },
    {
     "name": "stderr",
     "output_type": "stream",
     "text": [
      "[Parallel(n_jobs=-1)]: Using backend LokyBackend with 8 concurrent workers.\n",
      "[Parallel(n_jobs=-1)]: Done  25 tasks      | elapsed:   25.5s\n",
      "[Parallel(n_jobs=-1)]: Done 146 tasks      | elapsed:  2.2min\n",
      "[Parallel(n_jobs=-1)]: Done 300 out of 300 | elapsed:  4.3min finished\n"
     ]
    },
    {
     "data": {
      "text/plain": [
       "RandomizedSearchCV(cv=3, estimator=RandomForestRegressor(random_state=42),\n",
       "                   n_iter=100, n_jobs=-1,\n",
       "                   param_distributions={'bootstrap': [True, False],\n",
       "                                        'min_samples_leaf': [1, 2, 4],\n",
       "                                        'min_samples_split': [2, 5, 10],\n",
       "                                        'n_estimators': [10, 64, 118, 173, 227,\n",
       "                                                         282, 336, 391, 445,\n",
       "                                                         500]},\n",
       "                   random_state=42, return_train_score=True, scoring='r2',\n",
       "                   verbose=2)"
      ]
     },
     "execution_count": 765,
     "metadata": {},
     "output_type": "execute_result"
    }
   ],
   "source": [
    "# Number of trees in random forest\n",
    "n_estimators = [int(x) for x in np.linspace(start = 10, stop = 500, num = 10)]\n",
    "# Number of features to consider at every split\n",
    "# max_features = ['auto', 'sqrt']\n",
    "# Maximum number of levels in tree\n",
    "# Minimum number of samples required to split a node\n",
    "min_samples_split = [2, 5, 10]\n",
    "# Minimum number of samples required at each leaf node\n",
    "min_samples_leaf = [1, 2, 4]\n",
    "# Method of selecting samples for training each tree\n",
    "bootstrap = [True, False]\n",
    "\n",
    "# Create the random grid\n",
    "random_grid = {'n_estimators': n_estimators,\n",
    "               'min_samples_split': min_samples_split,\n",
    "               'min_samples_leaf': min_samples_leaf,\n",
    "               'bootstrap': bootstrap}\n",
    "\n",
    "pprint(random_grid)\n",
    "\n",
    "# # train_features_new_cases, test_features_new_cases, train_labels_new_cases, test_labels_new_cases\n",
    "# # Use the random grid to search for best hyperparameters\n",
    "# # First create the base model to tune\n",
    "rf = RandomForestRegressor(random_state = 42)\n",
    "# Random search of parameters, using 3 fold cross validation, \n",
    "# search across 100 different combinations, and use all available cores\n",
    "rf_search = RandomizedSearchCV(estimator=rf, param_distributions=random_grid,\n",
    "                              n_iter = 100, scoring='r2', \n",
    "                              cv = 3, verbose=2, random_state=42, n_jobs=-1,\n",
    "                              return_train_score=True)\n",
    "\n",
    "# Fit the random search model\n",
    "rf_search.fit(train_features_new_deaths, train_labels_new_deaths)"
   ]
  },
  {
   "cell_type": "code",
   "execution_count": 766,
   "metadata": {
    "ExecuteTime": {
     "end_time": "2022-05-06T06:37:21.250926Z",
     "start_time": "2022-05-06T06:37:21.247417Z"
    }
   },
   "outputs": [
    {
     "data": {
      "text/plain": [
       "{'n_estimators': 500,\n",
       " 'min_samples_split': 2,\n",
       " 'min_samples_leaf': 1,\n",
       " 'bootstrap': True}"
      ]
     },
     "execution_count": 766,
     "metadata": {},
     "output_type": "execute_result"
    }
   ],
   "source": [
    "rf_random.best_params_\n"
   ]
  },
  {
   "cell_type": "code",
   "execution_count": 767,
   "metadata": {
    "ExecuteTime": {
     "end_time": "2022-05-06T06:37:21.258340Z",
     "start_time": "2022-05-06T06:37:21.253154Z"
    }
   },
   "outputs": [],
   "source": [
    "def evaluate(model, test_features, test_labels):\n",
    "    predictions = model.predict(test_features)\n",
    "    r2 = r2_score(test_labels, predictions)\n",
    "    mse = mean_squared_error(test_labels, predictions)\n",
    "    rmse = sqrt(mse)\n",
    "    print('Model Performance')\n",
    "    print('R2: {:0.4f} degrees.'.format(r2))\n",
    "    print('mse = {:0.2f}'.format(mse))\n",
    "    print('rmse = {:0.2f}'.format(rmse))\n",
    "\n",
    "\n",
    "    \n",
    "    return r2"
   ]
  },
  {
   "cell_type": "code",
   "execution_count": 768,
   "metadata": {
    "ExecuteTime": {
     "end_time": "2022-05-06T06:37:21.270572Z",
     "start_time": "2022-05-06T06:37:21.262539Z"
    }
   },
   "outputs": [
    {
     "data": {
      "text/plain": [
       "array([1213,  211,  440, 1666,  427,  217, 5135,  213,  232,  183,  572,\n",
       "        617,  249,  223,  226, 1386,    3,  547,  164,  655,  346,  229,\n",
       "         10, 1948,   48,   81,    2,   80, 2377,  708, 1058,  377,  240,\n",
       "         18,  296,  320,   22,   67,  811, 3970,   63,  921,  180,   15,\n",
       "        446,   44,  220,  209,  315,  161,  361, 3944,  621,  460,  228,\n",
       "       1734,   50,  577,  521,   97, 4470,  326,  981,  172,    6, 1055,\n",
       "        120,  556,  418,  135,  111,  438, 1128,  108,    0,  535,  207,\n",
       "        239,  643,   11,   53,  199,   39,  189,  300,  276,  900,  153,\n",
       "         82,  106,  554,  626,  160,  608,  214, 1348,  752, 4830,  155,\n",
       "          5, 2559,   34,  887,  304, 1740,   23,  245,  174,   17,    9,\n",
       "         54, 1002, 5134,  267, 6961,  803,  500,   24,  681,  258,  130,\n",
       "        980,  234,   62, 1141,  145,   36,   69,  941,  101,    7,  687,\n",
       "        290,    8, 1540,  142, 2153,  469,  404,   26,  287,   32, 1954,\n",
       "        586,   57,    1,  242,   37,  542])"
      ]
     },
     "execution_count": 768,
     "metadata": {},
     "output_type": "execute_result"
    }
   ],
   "source": [
    "test_labels_new_deaths.unique()"
   ]
  },
  {
   "cell_type": "code",
   "execution_count": 769,
   "metadata": {
    "ExecuteTime": {
     "end_time": "2022-05-06T06:37:23.857286Z",
     "start_time": "2022-05-06T06:37:21.272793Z"
    }
   },
   "outputs": [
    {
     "name": "stdout",
     "output_type": "stream",
     "text": [
      "Model Performance\n",
      "R2 Error: 0.3709 degrees.\n",
      "mse = 718753.85\n",
      "rmse = 847.79\n"
     ]
    }
   ],
   "source": [
    "base_model = RandomForestRegressor(random_state = 42)\n",
    "base_model.fit(train_features_new_deaths, train_labels_new_deaths)\n",
    "base_accuracy = evaluate(base_model, test_features_new_deaths, test_labels_new_deaths)"
   ]
  },
  {
   "cell_type": "code",
   "execution_count": 770,
   "metadata": {
    "ExecuteTime": {
     "end_time": "2022-05-06T06:37:23.907887Z",
     "start_time": "2022-05-06T06:37:23.859092Z"
    }
   },
   "outputs": [
    {
     "name": "stdout",
     "output_type": "stream",
     "text": [
      "Model Performance\n",
      "R2 Error: 0.3885 degrees.\n",
      "mse = 698705.94\n",
      "rmse = 835.89\n"
     ]
    }
   ],
   "source": [
    "best_rf_search = rf_search.best_estimator_\n",
    "random_accuracy = evaluate(best_rf_search, test_features_new_deaths, test_labels_new_deaths)"
   ]
  },
  {
   "cell_type": "code",
   "execution_count": 771,
   "metadata": {
    "ExecuteTime": {
     "end_time": "2022-05-06T06:37:23.913653Z",
     "start_time": "2022-05-06T06:37:23.910531Z"
    }
   },
   "outputs": [
    {
     "name": "stdout",
     "output_type": "stream",
     "text": [
      "Improvement of 4.73%.\n"
     ]
    }
   ],
   "source": [
    "print('Improvement of {:0.2f}%.'.format( 100 * (random_accuracy - base_accuracy) / base_accuracy))\n"
   ]
  },
  {
   "cell_type": "code",
   "execution_count": 772,
   "metadata": {
    "ExecuteTime": {
     "end_time": "2022-05-06T06:37:23.922107Z",
     "start_time": "2022-05-06T06:37:23.918762Z"
    }
   },
   "outputs": [],
   "source": [
    "from sklearn.model_selection import GridSearchCV\n",
    "\n",
    "# Create the parameter grid based on the results of random search \n",
    "param_grid = {\n",
    "    'bootstrap': [True],\n",
    "    'min_samples_leaf': [3, 4, 5],\n",
    "    'min_samples_split': [8, 10, 12],\n",
    "    'n_estimators': [500, 600, 1000, 2000]\n",
    "}\n",
    "\n",
    "# Create a base model\n",
    "rf = RandomForestRegressor(random_state = 42)\n",
    "\n",
    "# Instantiate the grid search model\n",
    "grid_search = GridSearchCV(estimator = rf, param_grid = param_grid, \n",
    "                          cv = 3, n_jobs = -1, verbose = 2, return_train_score=True)"
   ]
  },
  {
   "cell_type": "code",
   "execution_count": 773,
   "metadata": {
    "ExecuteTime": {
     "end_time": "2022-05-06T06:39:21.534886Z",
     "start_time": "2022-05-06T06:37:23.925433Z"
    }
   },
   "outputs": [
    {
     "name": "stdout",
     "output_type": "stream",
     "text": [
      "Fitting 3 folds for each of 36 candidates, totalling 108 fits\n"
     ]
    },
    {
     "name": "stderr",
     "output_type": "stream",
     "text": [
      "[Parallel(n_jobs=-1)]: Using backend LokyBackend with 8 concurrent workers.\n",
      "[Parallel(n_jobs=-1)]: Done  25 tasks      | elapsed:   26.0s\n",
      "[Parallel(n_jobs=-1)]: Done 108 out of 108 | elapsed:  1.7min finished\n"
     ]
    },
    {
     "data": {
      "text/plain": [
       "GridSearchCV(cv=3, estimator=RandomForestRegressor(random_state=42), n_jobs=-1,\n",
       "             param_grid={'bootstrap': [True], 'min_samples_leaf': [3, 4, 5],\n",
       "                         'min_samples_split': [8, 10, 12],\n",
       "                         'n_estimators': [500, 600, 1000, 2000]},\n",
       "             return_train_score=True, verbose=2)"
      ]
     },
     "execution_count": 773,
     "metadata": {},
     "output_type": "execute_result"
    }
   ],
   "source": [
    "# Fit the grid search to the data\n",
    "grid_search.fit(test_features_new_deaths, test_labels_new_deaths)\n"
   ]
  },
  {
   "cell_type": "code",
   "execution_count": 774,
   "metadata": {
    "ExecuteTime": {
     "end_time": "2022-05-06T06:39:21.538701Z",
     "start_time": "2022-05-06T06:39:21.536563Z"
    }
   },
   "outputs": [],
   "source": [
    "final_model_new_deaths = grid_search.best_estimator_\n"
   ]
  },
  {
   "cell_type": "code",
   "execution_count": 775,
   "metadata": {
    "ExecuteTime": {
     "end_time": "2022-05-06T06:39:21.679379Z",
     "start_time": "2022-05-06T06:39:21.540394Z"
    }
   },
   "outputs": [
    {
     "name": "stdout",
     "output_type": "stream",
     "text": [
      "Model Performance\n",
      "R2 Error: 0.7238 degrees.\n",
      "mse = 315593.77\n",
      "rmse = 561.78\n"
     ]
    }
   ],
   "source": [
    "best_grid = grid_search.best_estimator_\n",
    "grid_accuracy = evaluate(best_grid, test_features_new_deaths, test_labels_new_deaths)"
   ]
  },
  {
   "cell_type": "code",
   "execution_count": 776,
   "metadata": {
    "ExecuteTime": {
     "end_time": "2022-05-06T06:39:21.684717Z",
     "start_time": "2022-05-06T06:39:21.681505Z"
    }
   },
   "outputs": [
    {
     "name": "stdout",
     "output_type": "stream",
     "text": [
      "Improvement of 95.12%.\n"
     ]
    }
   ],
   "source": [
    "print('Improvement of {:0.2f}%.'.format( 100 * (grid_accuracy - base_accuracy) / base_accuracy))\n"
   ]
  },
  {
   "cell_type": "markdown",
   "metadata": {},
   "source": [
    "### Plotting number of features at each split\n"
   ]
  },
  {
   "cell_type": "code",
   "execution_count": 796,
   "metadata": {
    "ExecuteTime": {
     "end_time": "2022-05-06T15:48:56.087730Z",
     "start_time": "2022-05-06T15:13:01.909799Z"
    }
   },
   "outputs": [
    {
     "name": "stdout",
     "output_type": "stream",
     "text": [
      "Fitting 3 folds for each of 305 candidates, totalling 915 fits\n"
     ]
    },
    {
     "name": "stderr",
     "output_type": "stream",
     "text": [
      "[Parallel(n_jobs=-1)]: Using backend LokyBackend with 8 concurrent workers.\n",
      "[Parallel(n_jobs=-1)]: Done  25 tasks      | elapsed:   22.8s\n",
      "[Parallel(n_jobs=-1)]: Done 146 tasks      | elapsed:  2.2min\n",
      "[Parallel(n_jobs=-1)]: Done 349 tasks      | elapsed:  7.6min\n",
      "[Parallel(n_jobs=-1)]: Done 632 tasks      | elapsed: 19.5min\n",
      "[Parallel(n_jobs=-1)]: Done 915 out of 915 | elapsed: 35.8min finished\n"
     ]
    }
   ],
   "source": [
    "feature_grid = {'max_features': list(range(1, train_features_new_deaths.shape[1] + 1))}\n",
    "\n",
    "# Create the grid search and fit on the training data\n",
    "feature_grid_search = GridSearchCV(final_model_new_deaths, param_grid=feature_grid, cv = 3, n_jobs=-1, verbose= 2,\n",
    "                                  scoring = 'r2', return_train_score=True)\n",
    "feature_grid_search.fit(train_features_new_deaths, train_labels_new_deaths);\n"
   ]
  },
  {
   "cell_type": "code",
   "execution_count": 809,
   "metadata": {
    "ExecuteTime": {
     "end_time": "2022-05-06T15:53:32.601465Z",
     "start_time": "2022-05-06T15:53:31.504015Z"
    }
   },
   "outputs": [
    {
     "name": "stdout",
     "output_type": "stream",
     "text": [
      "train_time 3.747091054916382\n",
      "max 32.24803535143534\n"
     ]
    },
    {
     "data": {
      "image/png": "[encoded data removed]",
      "text/plain": [
       "<Figure size 1200x720 with 2 Axes>"
      ]
     },
     "metadata": {},
     "output_type": "display_data"
    }
   ],
   "source": [
    "plot_results(feature_grid_search, param='max_features', name = 'Max Features')\n"
   ]
  },
  {
   "cell_type": "markdown",
   "metadata": {},
   "source": [
    "### Number of Trees"
   ]
  },
  {
   "cell_type": "code",
   "execution_count": 812,
   "metadata": {
    "ExecuteTime": {
     "end_time": "2022-05-06T15:55:30.756864Z",
     "start_time": "2022-05-06T15:55:02.445978Z"
    }
   },
   "outputs": [
    {
     "name": "stdout",
     "output_type": "stream",
     "text": [
      "Fitting 3 folds for each of 30 candidates, totalling 90 fits\n"
     ]
    },
    {
     "name": "stderr",
     "output_type": "stream",
     "text": [
      "[Parallel(n_jobs=-1)]: Using backend LokyBackend with 8 concurrent workers.\n",
      "[Parallel(n_jobs=-1)]: Done  34 tasks      | elapsed:    5.2s\n",
      "[Parallel(n_jobs=-1)]: Done  90 out of  90 | elapsed:   27.6s finished\n"
     ]
    },
    {
     "name": "stdout",
     "output_type": "stream",
     "text": [
      "train_time 0.018262545267740887\n",
      "max 4.653462966283162\n"
     ]
    },
    {
     "data": {
      "image/png": "[encoded data removed]",
      "text/plain": [
       "<Figure size 1200x720 with 2 Axes>"
      ]
     },
     "metadata": {},
     "output_type": "display_data"
    }
   ],
   "source": [
    "# Grid with only the number of trees changed\n",
    "tree_grid = {'n_estimators': [int(x) for x in np.linspace(1, 301, 30)]}\n",
    "\n",
    "# Create the grid search model and fit to the training data\n",
    "tree_grid_search = GridSearchCV(final_model_new_deaths, param_grid=tree_grid, verbose = 2, n_jobs=-1, cv = 3,\n",
    "                                scoring = 'r2', return_train_score=True)\n",
    "tree_grid_search.fit(train_features_new_deaths, train_labels_new_deaths);\n",
    "plot_results(tree_grid_search)\n"
   ]
  },
  {
   "cell_type": "code",
   "execution_count": 814,
   "metadata": {
    "ExecuteTime": {
     "end_time": "2022-05-06T15:56:34.119219Z",
     "start_time": "2022-05-06T15:56:31.614104Z"
    }
   },
   "outputs": [],
   "source": [
    "# Use sklearn to export the tree \n",
    "from sklearn.tree import export_graphviz\n",
    "\n",
    "# Write the decision tree as a dot file\n",
    "visual_tree = final_model_new_deaths.estimators_[12]\n",
    "export_graphviz(visual_tree, out_file = 'images/best_tree_new_deaths.dot', feature_names = train_features_new_deaths.columns, \n",
    "                precision = 2, filled = True, rounded = True, max_depth = None)\n",
    "import pydot\n",
    "\n",
    "# Import the dot file to a graph and then convert to a png\n",
    "(graph, ) = pydot.graph_from_dot_file('images/best_tree_new_deaths.dot')\n",
    "graph.write_png('images/best_tree_new_deaths.png')"
   ]
  },
  {
   "cell_type": "markdown",
   "metadata": {},
   "source": [
    "## New Cases"
   ]
  },
  {
   "cell_type": "code",
   "execution_count": null,
   "metadata": {
    "ExecuteTime": {
     "start_time": "2022-05-06T15:57:06.737Z"
    }
   },
   "outputs": [
    {
     "name": "stdout",
     "output_type": "stream",
     "text": [
      "{'bootstrap': [True, False],\n",
      " 'min_samples_leaf': [1, 2, 4],\n",
      " 'min_samples_split': [2, 5, 10],\n",
      " 'n_estimators': [10, 64, 118, 173, 227, 282, 336, 391, 445, 500]}\n",
      "Fitting 3 folds for each of 100 candidates, totalling 300 fits\n"
     ]
    },
    {
     "name": "stderr",
     "output_type": "stream",
     "text": [
      "[Parallel(n_jobs=-1)]: Using backend LokyBackend with 8 concurrent workers.\n",
      "[Parallel(n_jobs=-1)]: Done  25 tasks      | elapsed:   24.9s\n"
     ]
    }
   ],
   "source": [
    "# Number of trees in random forest\n",
    "n_estimators = [int(x) for x in np.linspace(start = 10, stop = 500, num = 10)]\n",
    "# Number of features to consider at every split\n",
    "# max_features = ['auto', 'sqrt']\n",
    "# Maximum number of levels in tree\n",
    "# Minimum number of samples required to split a node\n",
    "min_samples_split = [2, 5, 10]\n",
    "# Minimum number of samples required at each leaf node\n",
    "min_samples_leaf = [1, 2, 4]\n",
    "# Method of selecting samples for training each tree\n",
    "bootstrap = [True, False]\n",
    "\n",
    "# Create the random grid\n",
    "random_grid = {'n_estimators': n_estimators,\n",
    "               'min_samples_split': min_samples_split,\n",
    "               'min_samples_leaf': min_samples_leaf,\n",
    "               'bootstrap': bootstrap}\n",
    "\n",
    "pprint(random_grid)\n",
    "\n",
    "# # train_features_new_cases, test_features_new_cases, train_labels_new_cases, test_labels_new_cases\n",
    "# # Use the random grid to search for best hyperparameters\n",
    "# # First create the base model to tune\n",
    "rf = RandomForestRegressor(random_state = 42)\n",
    "# Random search of parameters, using 3 fold cross validation, \n",
    "# search across 100 different combinations, and use all available cores\n",
    "rf_search = RandomizedSearchCV(estimator=rf, param_distributions=random_grid,\n",
    "                              n_iter = 100, scoring='r2', \n",
    "                              cv = 3, verbose=2, random_state=42, n_jobs=-1,\n",
    "                              return_train_score=True)\n",
    "\n",
    "# Fit the random search model\n",
    "rf_search.fit(train_features_new_cases, train_labels_new_cases)"
   ]
  },
  {
   "cell_type": "code",
   "execution_count": null,
   "metadata": {
    "ExecuteTime": {
     "start_time": "2022-05-06T15:57:07.885Z"
    }
   },
   "outputs": [],
   "source": [
    "base_model = RandomForestRegressor(random_state = 42)\n",
    "base_model.fit(train_features_new_cases, train_labels_new_cases)\n",
    "base_accuracy = evaluate(base_model, test_features_new_cases, test_labels_new_cases)"
   ]
  },
  {
   "cell_type": "code",
   "execution_count": null,
   "metadata": {
    "ExecuteTime": {
     "start_time": "2022-05-06T15:57:08.259Z"
    }
   },
   "outputs": [],
   "source": [
    "best_rf_search = rf_search.best_estimator_\n",
    "random_accuracy = evaluate(best_rf_search, test_features_new_cases, test_labels_new_cases)"
   ]
  },
  {
   "cell_type": "code",
   "execution_count": null,
   "metadata": {
    "ExecuteTime": {
     "start_time": "2022-05-06T15:57:08.573Z"
    }
   },
   "outputs": [],
   "source": [
    "print('Improvement of {:0.2f}%.'.format( 100 * (random_accuracy - base_accuracy) / base_accuracy))\n"
   ]
  },
  {
   "cell_type": "code",
   "execution_count": null,
   "metadata": {
    "ExecuteTime": {
     "start_time": "2022-05-06T15:57:08.886Z"
    }
   },
   "outputs": [],
   "source": [
    "from sklearn.model_selection import GridSearchCV\n",
    "\n",
    "# Create the parameter grid based on the results of random search \n",
    "param_grid = {\n",
    "    'bootstrap': [True],\n",
    "    'min_samples_leaf': [3, 4, 5],\n",
    "    'min_samples_split': [8, 10, 12],\n",
    "    'n_estimators': [500, 600, 1000, 2000]\n",
    "}\n",
    "\n",
    "# Create a base model\n",
    "rf = RandomForestRegressor(random_state = 42)\n",
    "\n",
    "# Instantiate the grid search model\n",
    "grid_search = GridSearchCV(estimator = rf, param_grid = param_grid, \n",
    "                          cv = 3, n_jobs = -1, verbose = 2, return_train_score=True)"
   ]
  },
  {
   "cell_type": "code",
   "execution_count": null,
   "metadata": {
    "ExecuteTime": {
     "start_time": "2022-05-06T15:57:09.572Z"
    }
   },
   "outputs": [],
   "source": [
    "# Fit the grid search to the data\n",
    "grid_search.fit(test_features_new_cases, test_labels_new_cases)\n",
    "final_model_new_cases = grid_search.best_estimator_\n"
   ]
  },
  {
   "cell_type": "code",
   "execution_count": null,
   "metadata": {
    "ExecuteTime": {
     "start_time": "2022-05-06T15:57:10.098Z"
    }
   },
   "outputs": [],
   "source": [
    "grid_search.best_estimator_\n"
   ]
  },
  {
   "cell_type": "code",
   "execution_count": null,
   "metadata": {
    "ExecuteTime": {
     "start_time": "2022-05-06T15:57:10.523Z"
    }
   },
   "outputs": [],
   "source": [
    "best_grid = grid_search.best_estimator_\n",
    "grid_accuracy = evaluate(best_grid, test_features_new_cases, test_labels_new_cases)"
   ]
  },
  {
   "cell_type": "code",
   "execution_count": null,
   "metadata": {
    "ExecuteTime": {
     "start_time": "2022-05-06T15:57:11.163Z"
    }
   },
   "outputs": [],
   "source": [
    "print('Improvement of {:0.2f}%.'.format( 100 * (grid_accuracy - base_accuracy) / base_accuracy))\n"
   ]
  },
  {
   "cell_type": "markdown",
   "metadata": {},
   "source": [
    "### Plotting number of features at each split\n"
   ]
  },
  {
   "cell_type": "code",
   "execution_count": null,
   "metadata": {
    "ExecuteTime": {
     "start_time": "2022-05-06T15:57:11.915Z"
    }
   },
   "outputs": [],
   "source": [
    "feature_grid = {'max_features': list(range(1, train_features_new_cases.shape[1] + 1))}\n",
    "\n",
    "# Create the grid search and fit on the training data\n",
    "feature_grid_search = GridSearchCV(final_model_new_cases, param_grid=feature_grid, cv = 3, n_jobs=-1, verbose= 2,\n",
    "                                  scoring = 'r2', return_train_score=True)\n",
    "feature_grid_search.fit(train_features_new_cases, train_labels_cases);\n",
    "\n",
    "plot_results(feature_grid_search, param='max_features', name = 'Max Features')\n"
   ]
  },
  {
   "cell_type": "markdown",
   "metadata": {},
   "source": [
    "### Number of Trees"
   ]
  },
  {
   "cell_type": "code",
   "execution_count": null,
   "metadata": {
    "ExecuteTime": {
     "start_time": "2022-05-06T15:57:13.026Z"
    }
   },
   "outputs": [],
   "source": [
    "# Grid with only the number of trees changed\n",
    "tree_grid = {'n_estimators': [int(x) for x in np.linspace(1, 301, 30)]}\n",
    "\n",
    "# Create the grid search model and fit to the training data\n",
    "tree_grid_search = GridSearchCV(final_model_new_cases, param_grid=tree_grid, verbose = 2, n_jobs=-1, cv = 3,\n",
    "                                scoring = 'r2', return_train_score=True)\n",
    "tree_grid_search.fit(train_features_new_cases, train_labels_new_cases);\n",
    "plot_results(tree_grid_search)\n"
   ]
  },
  {
   "cell_type": "code",
   "execution_count": null,
   "metadata": {
    "ExecuteTime": {
     "start_time": "2022-05-06T15:57:15.251Z"
    }
   },
   "outputs": [],
   "source": [
    "# Use sklearn to export the tree \n",
    "from sklearn.tree import export_graphviz\n",
    "\n",
    "# Write the decision tree as a dot file\n",
    "visual_tree = final_model_new_cases.estimators_[12]\n",
    "export_graphviz(visual_tree, out_file = 'images/best_tree_new_cases.dot', feature_names = train_features_new_cases.columns, \n",
    "                precision = 2, filled = True, rounded = True, max_depth = None)\n",
    "import pydot\n",
    "\n",
    "# Import the dot file to a graph and then convert to a png\n",
    "(graph, ) = pydot.graph_from_dot_file('images/best_tree_new_cases.dot')\n",
    "graph.write_png('images/best_tree_new_cases.png')"
   ]
  },
  {
   "cell_type": "code",
   "execution_count": null,
   "metadata": {},
   "outputs": [],
   "source": []
  },
  {
   "cell_type": "code",
   "execution_count": null,
   "metadata": {},
   "outputs": [],
   "source": []
  }
 ],
 "metadata": {
  "kernelspec": {
   "display_name": "Python 3",
   "language": "python",
   "name": "python3"
  },
  "language_info": {
   "codemirror_mode": {
    "name": "ipython",
    "version": 3
   },
   "file_extension": ".py",
   "mimetype": "text/x-python",
   "name": "python",
   "nbconvert_exporter": "python",
   "pygments_lexer": "ipython3",
   "version": "3.8.2"
  }
 },
 "nbformat": 4,
 "nbformat_minor": 4
}
